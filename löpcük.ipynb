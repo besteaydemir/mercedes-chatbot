{
 "cells": [
  {
   "cell_type": "code",
   "execution_count": 1,
   "metadata": {},
   "outputs": [],
   "source": [
    "from openai import OpenAI\n",
    "import speech_recognition as sr\n",
    "import os\n",
    "import time\n",
    "from gtts import gTTS\n",
    "import playsound\n",
    "\n",
    "\n",
    "client = OpenAI(api_key=\"sorry, this is private for a github repo.\")\n",
    "\n",
    "assistant = client.beta.assistants.create(\n",
    "    name = \"Lopçük\",\n",
    "    instructions = \"Lopçük is a friendly assistant that helps you with your daily conversational tasks.\",\n",
    "    tools=[{\"type\": \"code_interpreter\"}],\n",
    "    model = \"gpt-3.5-turbo\",\n",
    ")\n",
    "\n",
    "thread = client.beta.threads.create()\n"
   ]
  },
  {
   "cell_type": "code",
   "execution_count": 2,
   "metadata": {},
   "outputs": [
    {
     "name": "stdout",
     "output_type": "stream",
     "text": [
      "Say something!\n",
      "You said: can you give me a brief information about Metallica\n",
      "Say something!\n",
      "You said: exit\n"
     ]
    }
   ],
   "source": [
    "def speak(text):\n",
    "    tts = gTTS(text=text, lang='en')\n",
    "    file_path = os.path.abspath(\"data/audio.mp3\")\n",
    "    tts.save(file_path)\n",
    "    playsound.playsound(file_path)\n",
    "\n",
    "\n",
    "def speech_to_text():\n",
    "    recognizer = sr.Recognizer()\n",
    "    microphone = sr.Microphone()\n",
    "    with microphone as source:\n",
    "        print(\"Say something!\")\n",
    "        recognizer.adjust_for_ambient_noise(source, duration=1)\n",
    "        audio = recognizer.listen(source)\n",
    "    try:\n",
    "        text = recognizer.recognize_google(audio, language=\"en-US\")\n",
    "        print(\"You said:\", text)\n",
    "        return text.lower()  \n",
    "    except sr.UnknownValueError:\n",
    "        speak(\"Sorry, I could not understand what you said.\")\n",
    "        return None\n",
    "    except sr.RequestError as e:\n",
    "        speak(f\"Could not request results from Google Speech Recognition service; {e}\")\n",
    "        return None\n",
    "\n",
    "def send_input_to_assistant(client, thread, input_text):\n",
    "    message = client.beta.threads.messages.create(thread_id=thread.id, role=\"user\", content=input_text)\n",
    "    return message\n",
    "\n",
    "def wait_for_response_completion(client, thread, run):\n",
    "    while run.status == \"queued\" or run.status == \"in_progress\":\n",
    "        run = client.beta.threads.runs.retrieve(thread_id=thread.id, run_id=run.id)\n",
    "        time.sleep(0.5)\n",
    "    return run\n",
    "\n",
    "def get_last_message(client, thread):\n",
    "    response = client.beta.threads.messages.list(thread_id=thread.id, order=\"asc\")\n",
    "    if response.data:  \n",
    "        last_message = response.data[-1].content[0].text.value\n",
    "        return last_message\n",
    "    else:\n",
    "        last_message = \"No messages found in the conversation thread.\"\n",
    "        return last_message\n",
    "\n",
    "\n",
    "def speak_last_message(client, thread):\n",
    "    speak(\"Hello there, how can I help you today?\")\n",
    "    speak_last_message_loop(client, thread)\n",
    "\n",
    "def speak_last_message_loop(client, thread, last_message=None):\n",
    "    while True:\n",
    "        \n",
    "        user_input = speech_to_text()\n",
    "        if user_input == \"exit\":\n",
    "            speak(\"OK, Goodbye!\")\n",
    "            break\n",
    "        if user_input is not None:\n",
    "            send_input_to_assistant(client, thread, user_input)\n",
    "            run = client.beta.threads.runs.create(thread_id=thread.id, assistant_id=assistant.id)\n",
    "            run = wait_for_response_completion(client, thread, run)\n",
    "            last_message = get_last_message(client, thread)\n",
    "            speak(last_message)\n",
    "\n",
    "speak_last_message(client, thread)\n"
   ]
  }
 ],
 "metadata": {
  "kernelspec": {
   "display_name": "smart_assist",
   "language": "python",
   "name": "python3"
  },
  "language_info": {
   "codemirror_mode": {
    "name": "ipython",
    "version": 3
   },
   "file_extension": ".py",
   "mimetype": "text/x-python",
   "name": "python",
   "nbconvert_exporter": "python",
   "pygments_lexer": "ipython3",
   "version": "3.11.8"
  }
 },
 "nbformat": 4,
 "nbformat_minor": 2
}
