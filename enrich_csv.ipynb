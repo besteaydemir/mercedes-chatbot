{
 "cells": [
  {
   "cell_type": "code",
   "execution_count": 1,
   "metadata": {},
   "outputs": [
    {
     "name": "stdout",
     "output_type": "stream",
     "text": [
      "Requirement already satisfied: pandas in c:\\users\\beste aydemir\\anaconda3\\lib\\site-packages (2.0.3)\n",
      "Requirement already satisfied: requests in c:\\users\\beste aydemir\\anaconda3\\lib\\site-packages (2.31.0)\n",
      "Requirement already satisfied: python-dateutil>=2.8.2 in c:\\users\\beste aydemir\\anaconda3\\lib\\site-packages (from pandas) (2.8.2)\n",
      "Requirement already satisfied: pytz>=2020.1 in c:\\users\\beste aydemir\\anaconda3\\lib\\site-packages (from pandas) (2023.3.post1)\n",
      "Requirement already satisfied: tzdata>=2022.1 in c:\\users\\beste aydemir\\anaconda3\\lib\\site-packages (from pandas) (2023.3)\n",
      "Requirement already satisfied: numpy>=1.21.0 in c:\\users\\beste aydemir\\anaconda3\\lib\\site-packages (from pandas) (1.24.3)\n",
      "Requirement already satisfied: charset-normalizer<4,>=2 in c:\\users\\beste aydemir\\anaconda3\\lib\\site-packages (from requests) (2.0.4)\n",
      "Requirement already satisfied: idna<4,>=2.5 in c:\\users\\beste aydemir\\anaconda3\\lib\\site-packages (from requests) (3.4)\n",
      "Requirement already satisfied: urllib3<3,>=1.21.1 in c:\\users\\beste aydemir\\anaconda3\\lib\\site-packages (from requests) (1.26.16)\n",
      "Requirement already satisfied: certifi>=2017.4.17 in c:\\users\\beste aydemir\\anaconda3\\lib\\site-packages (from requests) (2023.7.22)\n",
      "Requirement already satisfied: six>=1.5 in c:\\users\\beste aydemir\\anaconda3\\lib\\site-packages (from python-dateutil>=2.8.2->pandas) (1.16.0)\n",
      "Note: you may need to restart the kernel to use updated packages.\n"
     ]
    }
   ],
   "source": [
    "pip install pandas requests\n"
   ]
  },
  {
   "cell_type": "code",
   "execution_count": 2,
   "metadata": {},
   "outputs": [],
   "source": [
    "import pandas as pd\n",
    "import requests\n"
   ]
  },
  {
   "cell_type": "code",
   "execution_count": 4,
   "metadata": {},
   "outputs": [],
   "source": [
    "df = pd.read_csv('Example Vehicle Export-TUM.csv')\n"
   ]
  },
  {
   "cell_type": "code",
   "execution_count": 5,
   "metadata": {},
   "outputs": [],
   "source": [
    "api_key = 'b054a976-7730-4a48-ada5-4a1c3e77142f'\n",
    "api_url = 'https://api.mercedes-benz.com/vehicle_specifications/v1/vehicles/'\n"
   ]
  },
  {
   "cell_type": "code",
   "execution_count": 10,
   "metadata": {},
   "outputs": [
    {
     "name": "stdout",
     "output_type": "stream",
     "text": [
      "Failed to fetch data for VIN: Z1NYC7HJ6RX510888\n",
      "W1NYC7HJ6RX510902\n",
      "{'vehicleData': {'additionalSpecs': {'productSeries': '463', 'vehicleModelDesignation': '463277'}, 'allwheel': '1', 'baumuster': '463277', 'body': {'code': '6', 'text': 'Off-Roader'}, 'branch': 6, 'brand': {'code': '095', 'text': 'Mercedes-Benz'}, 'countrynumber': '705', 'enginetype': {'code': '2', 'text': 'Petrol'}, 'fin11': 'W1N4632771X', 'finaldate': '20240207', 'leather': '0', 'longType': 'Mercedes-AMG G 63', 'longTypeTechnical': 'AMG G 63', 'metallic': '0', 'model': 'G', 'modelName': 'G-Class', 'modelYear': 'X23', 'modelYearYear': '2024', 'numberofdoors': 5, 'numberofseats': 5, 'options': [{'description': 'AMG brake callipers painted red front and rear', 'type': 'F', 'code': 'BS2', 'codeType': 'SA'}, {'description': 'Ladder-type frame', 'type': 'S', 'code': '150#', 'codeType': 'SA'}, {'description': 'Exterior mirror housings in black', 'type': 'F', 'code': 'FS0', 'codeType': 'SA'}, {'description': 'MANUFAKTUR spare wheel ring painted in obsidian black', 'type': 'F', 'code': 'RB4', 'codeType': 'SA'}, {'description': 'AMG SPEEDSHIFT TCT 9G', 'type': 'F', 'code': 'G44', 'codeType': 'GC'}, {'description': '360° camera', 'type': 'F', 'code': 'JS1', 'codeType': 'SA'}, {'description': 'Widescreen cockpit', 'type': 'F', 'code': 'J25', 'codeType': 'SA'}, {'description': 'Low-range ratio', 'type': 'S', 'code': '081#', 'codeType': 'SA'}, {'description': 'Spare wheel on rear-end door', 'type': 'S', 'code': 'RR8#', 'codeType': 'SA'}, {'description': 'KEYLESS GO starting function', 'type': 'S', 'code': '889#', 'codeType': 'SA'}, {'description': 'MANUFAKTUR seat belts in macchiato beige', 'type': 'F', 'code': 'S44', 'codeType': 'SA'}, {'description': 'Leather Nappa', 'type': 'F', 'code': '800A', 'codeType': 'AS'}, {'description': 'Omission of first-aid kit (hard case)', 'type': 'F', 'code': '634', 'codeType': 'SA'}, {'description': 'Blind Spot Assist', 'type': 'F', 'code': 'EA2', 'codeType': 'SA'}, {'description': 'Memory function for front seats and head restraints', 'type': 'S', 'code': 'S54#', 'codeType': 'SA'}, {'description': 'Instrument panel in nappa leather', 'type': 'F', 'code': 'JC1', 'codeType': 'SA'}, {'description': 'Underguard painted black', 'type': 'F', 'code': 'C55', 'codeType': 'SA'}, {'description': 'Parking assist PARKTRONIC', 'type': 'F', 'code': 'EZ8', 'codeType': 'SA'}, {'description': 'Techn. Communication Module Variant f. North America', 'type': 'F', 'code': '1B4', 'codeType': 'SC'}, {'description': 'Active Distance Assist DISTRONIC', 'type': 'F', 'code': 'EZ9', 'codeType': 'SA'}, {'description': 'Door sills at front in stainless steel', 'type': 'F', 'code': 'C59', 'codeType': 'SC'}, {'description': 'Spare wheel 265/50 R20 summer tyres', 'type': 'F', 'code': 'IR4', 'codeType': 'SC'}, {'description': 'ENERGIZING comfort control', 'type': 'F', 'code': 'P72', 'codeType': 'PC'}, {'description': 'Digital radio standard, HD (High-Definition)', 'type': 'F', 'code': 'E16', 'codeType': 'SC'}, {'description': 'SUPERIOR Line Interior', 'type': 'F', 'code': 'P77', 'codeType': 'PC'}, {'description': 'Heated multifunction steering wheel', 'type': 'F', 'code': 'LH1', 'codeType': 'SA'}, {'description': 'Steuercode Seitenspiegel neu positioniert', 'type': 'F', 'code': 'FD7', 'codeType': 'SC'}, {'description': 'MANUFAKTUR grab handles in leather', 'type': 'F', 'code': 'V36', 'codeType': 'SA'}, {'description': 'ECO start/stop function', 'type': 'F', 'code': 'MJ7', 'codeType': 'SC'}, {'description': 'AMG RIDE CONTROL', 'type': 'F', 'code': 'A20', 'codeType': 'SA'}, {'description': 'Seat comfort functions', 'type': 'F', 'code': 'SF1', 'codeType': 'SC'}, {'description': 'Rubber mat for load compartment', 'type': 'F', 'code': 'VL4', 'codeType': 'SA'}, {'description': \"Owner's Manual and Service Booklet -  Engl. USA/CAN\", 'type': 'F', 'code': '12B', 'codeType': 'SA'}, {'description': 'AMG Performance steering wheel in black nappa leather', 'type': 'F', 'code': 'VL9', 'codeType': 'SA'}, {'description': 'V8-OTTOMOTOR M177', 'type': 'F', 'code': 'M177', 'codeType': 'MO'}, {'description': 'UNITED STATES (USA)', 'type': 'F', 'code': '705L', 'codeType': 'VL'}, {'description': 'Communications module (LTE) for the use of Mercedes me connect services', 'type': 'F', 'code': 'EK1', 'codeType': 'SA'}, {'description': 'Heated windscreen', 'type': 'F', 'code': 'F49', 'codeType': 'SA'}, {'description': 'Mercedes-Benz emergency call system', 'type': 'F', 'code': 'EK0', 'codeType': 'SA'}, {'description': 'URBAN GUARD vehicle protection Plus', 'type': 'F', 'code': 'P82', 'codeType': 'PC'}, {'description': 'Left-hand drive', 'type': 'F', 'code': 'L', 'codeType': 'LE'}, {'description': 'Pre-installation for Vehicle Setup', 'type': 'F', 'code': '08U', 'codeType': 'SA'}, {'description': 'AMG instrument cluster', 'type': 'S', 'code': '071#', 'codeType': 'SA'}, {'description': 'Stainless Steel Side Running Boards', 'type': 'F', 'code': 'T84', 'codeType': 'SA'}, {'description': 'AMG floor mats in espresso brown with edging in macchiato beige', 'type': 'F', 'code': 'V43', 'codeType': 'SA'}, {'description': 'Ionisation of interior air', 'type': 'F', 'code': 'HA1', 'codeType': 'PC'}, {'description': 'Engine M177 DE40 LA', 'type': 'F', 'code': 'MC1', 'codeType': 'SC'}, {'description': 'National version for USA', 'type': 'F', 'code': 'ZU8', 'codeType': 'PL'}, {'description': 'Rubber floor mats in passenger and load compartments', 'type': 'F', 'code': 'PA2', 'codeType': 'SA'}, {'description': 'Brush guard in obsidian black', 'type': 'F', 'code': 'C74', 'codeType': 'SA'}, {'description': 'Instrument cluster language - American English', 'type': 'F', 'code': '342B', 'codeType': 'DE'}, {'description': 'Parking package', 'type': 'F', 'code': 'PA8', 'codeType': 'PC'}, {'description': 'GM Neu', 'type': 'F', 'code': 'EL0', 'codeType': 'SC'}, {'description': 'Pre-installation for Vehicle Monitoring', 'type': 'F', 'code': '09U', 'codeType': 'SA'}, {'description': 'Dark-tinted heat-insulating glass', 'type': 'F', 'code': 'W72', 'codeType': 'SA'}, {'description': 'Preinstallation for Navigation Services', 'type': 'F', 'code': '01U', 'codeType': 'SA'}, {'description': 'Dark-tinted headlamps', 'type': 'F', 'code': '5U7', 'codeType': 'SC'}, {'description': 'Load compartment cover', 'type': 'F', 'code': 'V57', 'codeType': 'SA'}, {'description': 'Sidebags in the rear', 'type': 'F', 'code': 'SH1', 'codeType': 'SA'}, {'description': 'COMAND Online', 'type': 'F', 'code': 'EU4', 'codeType': 'SA'}, {'description': 'Fuel tank with larger capacity (100 l)', 'type': 'F', 'code': 'K81', 'codeType': 'SA'}, {'description': 'CAPACITY 4,0 LITRE', 'type': 'F', 'code': 'M40', 'codeType': 'MO'}, {'description': 'AMG Night Package II', 'type': 'F', 'code': 'PAZ', 'codeType': 'PC'}, {'description': '115 V socket', 'type': 'F', 'code': 'E47', 'codeType': 'SC'}, {'description': 'Live Traffic compatibility (HERMES)', 'type': 'F', 'code': 'EM0', 'codeType': 'SA'}, {'description': 'Burmester® surround sound system', 'type': 'F', 'code': 'EU8', 'codeType': 'SA'}, {'description': 'ATTENTION ASSIST', 'type': 'F', 'code': 'JW8', 'codeType': 'SA'}, {'description': 'Driving Assistance package', 'type': 'F', 'code': 'EM4', 'codeType': 'PC'}, {'description': 'Diamond design', 'type': 'F', 'code': 'S81', 'codeType': 'SC'}, {'description': 'Preinstallation for engine remote start', 'type': 'F', 'code': '26U', 'codeType': 'SA'}, {'description': 'Tyres 295/40 R22, summer tyres', 'type': 'F', 'code': 'IM7', 'codeType': 'SC'}, {'description': 'Offroad screen', 'type': 'S', 'code': '603#', 'codeType': 'SA'}, {'description': 'Active Multicontour Seat package Plus', 'type': 'F', 'code': 'PK2', 'codeType': 'PC'}, {'description': 'Steuercode für Release-Bündel', 'type': 'F', 'code': '4T7', 'codeType': 'SC'}, {'description': 'Modification year 2023 (model year 2024)', 'type': 'F', 'code': 'X23', 'codeType': 'MJ'}, {'description': 'Exterior protective strip with trim insert in black', 'type': 'F', 'code': 'C92', 'codeType': 'SA'}, {'description': '55.9 cm (22-inch) AMG cross-spoke forged wheels', 'type': 'F', 'code': 'RG4', 'codeType': 'SA'}, {'description': 'Rubber mat set', 'type': 'F', 'code': 'VG0', 'codeType': 'SA'}, {'description': 'Active Lane Keeping Assist', 'type': 'F', 'code': 'A53', 'codeType': 'SA'}, {'description': 'Smartphone integration', 'type': 'F', 'code': 'EV1', 'codeType': 'SC'}, {'description': 'Smartphone integration, Google Automotive', 'type': 'F', 'code': 'EV4', 'codeType': 'SC'}, {'description': 'Smartphone integration, Carplay', 'type': 'F', 'code': 'EV3', 'codeType': 'SC'}, {'description': 'Frameless interior mirror', 'type': 'F', 'code': 'F75', 'codeType': 'SA'}, {'description': 'US model designation plate', 'type': 'F', 'code': 'XC3', 'codeType': 'SC'}, {'description': 'PRE-SAFE® system', 'type': 'F', 'code': 'JP0', 'codeType': 'SA'}, {'description': 'Engineering Package', 'type': 'F', 'code': 'PT1', 'codeType': 'PC'}, {'description': 'VIN chassis number', 'type': 'F', 'code': 'XC8', 'codeType': 'SC'}, {'description': 'Service interval 15,000 KM', 'type': 'F', 'code': 'K15', 'codeType': 'SC'}, {'description': 'North and South America', 'type': 'F', 'code': '7XXL', 'codeType': 'VS'}, {'description': 'Pre-installation for trailer coupling', 'type': 'F', 'code': 'Q59', 'codeType': 'SA'}, {'description': 'MICROCUT microfibre roof liner in macchiato beige', 'type': 'F', 'code': 'FH6', 'codeType': 'SA'}, {'description': 'Loading sill protector at rear in stainless steel', 'type': 'F', 'code': 'Y50', 'codeType': 'SC'}, {'description': 'MBCONNECT VEHICLE PROTECTION SYSTEM', 'type': 'F', 'code': '31U', 'codeType': 'SC'}, {'description': 'Radio: SIRIUS/SDARS ex factory', 'type': 'F', 'code': 'EF7', 'codeType': 'SC'}, {'description': 'Ambient lighting with projection of brand logo', 'type': 'S', 'code': '587#', 'codeType': 'SA'}, {'description': 'G MANUFAKTUR LACKE', 'type': 'F', 'code': 'W13', 'codeType': 'SC'}, {'description': 'STATIONSWAGEN BREIT', 'type': 'F', 'code': 'FB', 'codeType': 'AA'}, {'description': 'MANUFAKTUR Mercedes star front and rear in high-gloss black', 'type': 'F', 'code': 'CS1', 'codeType': 'SA'}, {'description': 'Headunit America', 'type': 'F', 'code': 'EO1', 'codeType': 'SC'}, {'description': 'Series 463', 'type': 'F', 'code': 'F463', 'codeType': 'BR'}, {'description': 'MANUFAKTUR bumpers and flared wheel arches in obsidian black', 'type': 'F', 'code': 'CK4', 'codeType': 'SA'}, {'description': 'Wheel arches, flared', 'type': 'F', 'code': 'P40', 'codeType': 'SC'}, {'description': 'Garage door opener integrated in interior mirror', 'type': 'F', 'code': 'YF9', 'codeType': 'SA'}, {'description': 'Tyre pressure monitoring system', 'type': 'F', 'code': 'RY6', 'codeType': 'SA'}, {'description': 'AMG-specific radiator grille in dark chrome', 'type': 'F', 'code': 'CK6', 'codeType': 'SA'}, {'description': 'AMG DYNAMIC SELECT', 'type': 'S', 'code': '281#', 'codeType': 'SA'}, {'description': 'Preinstallation for roof carrier systems', 'type': 'S', 'code': '726#', 'codeType': 'SA'}, {'description': 'Climate - Refrigerant, alternative', 'type': 'F', 'code': 'Y65', 'codeType': 'SC'}, {'description': 'Automatic transmission', 'type': 'F', 'code': 'GA', 'codeType': 'GE'}, {'description': 'Underguard in graphite black, powder-coated', 'type': 'S', 'code': 'C62#', 'codeType': 'SA'}, {'description': 'Grab handle for front passenger on dashboard', 'type': 'S', 'code': 'F11#', 'codeType': 'SA'}, {'description': 'Active Brake Assist', 'type': 'F', 'code': 'JA6', 'codeType': 'SA'}, {'description': 'Traffic Sign Assist', 'type': 'F', 'code': 'JA9', 'codeType': 'SA'}, {'description': 'ATA w. tow-away protection and interior monitoring', 'type': 'F', 'code': 'FZ8', 'codeType': 'SA'}, {'description': 'Free map data updates for 3 years', 'type': 'F', 'code': 'EX9', 'codeType': 'SA'}, {'description': 'Ambient Lighting with 64 colours', 'type': 'F', 'code': 'FR2', 'codeType': 'SA'}, {'description': 'High-gloss light brown sen wood trim', 'type': 'F', 'code': 'VA4', 'codeType': 'SA'}, {'description': 'Full transport packaging', 'type': 'F', 'code': 'ZA2', 'codeType': 'SA'}, {'description': 'Sliding sunroof', 'type': 'F', 'code': 'F15', 'codeType': 'SA'}, {'description': 'Tachometer in mph and km/h', 'type': 'F', 'code': 'J11', 'codeType': 'SA'}, {'description': 'THERMOTRONIC automatic climate control', 'type': 'S', 'code': '581#', 'codeType': 'SA'}, {'description': 'Oversea model - tank capacity +5lt', 'type': 'F', 'code': 'K36', 'codeType': 'SC'}, {'description': 'MULTIBEAM LED', 'type': 'F', 'code': 'L57', 'codeType': 'SA'}, {'description': 'AMG Night package', 'type': 'F', 'code': 'P56', 'codeType': 'PC'}, {'description': 'Electronic stability program (ESP)', 'type': 'F', 'code': 'BB3', 'codeType': 'SA'}, {'description': 'Sonderlackierung', 'type': 'F', 'code': 'Y75', 'codeType': 'SC'}, {'description': 'AMG performance exhaust system, selectable', 'type': 'F', 'code': 'U78', 'codeType': 'SC'}, {'description': '100% differential locks', 'type': 'S', 'code': 'A73#', 'codeType': 'SA'}, {'description': 'MANUFAKTUR Typography in high-gloss black', 'type': 'F', 'code': '7U8', 'codeType': 'SA'}, {'description': 'Identification label under windshield', 'type': 'F', 'code': '989', 'codeType': 'SC'}, {'description': 'Scratch resistant clear coat', 'type': 'F', 'code': 'Y78', 'codeType': 'SC'}, {'description': 'ISOFIX child seat anchorage points in the rear with TopTether fastening points in the load compartme', 'type': 'F', 'code': 'SD0', 'codeType': 'SA'}, {'description': 'Control code model year 4', 'type': 'F', 'code': 'XN4', 'codeType': 'SC'}], 'paint': {'description': 'MANUFAKTUR hyacinth red metallic', 'type': 'UNI', 'group': 'R', 'code': '996', 'codeType': 'XX'}, 'poolflag': 'P', 'technicalData': [{'id': '137T', 'value': '10', 'text': 'Drive concept'}, {'id': '139T', 'value': 'USA', 'text': 'Supply market'}, {'id': '08T', 'value': '3200', 'unit': 'kg', 'text': 'Perm. gross vehicle weight'}, {'id': '18T', 'value': '1966', 'unit': 'mm', 'text': 'Vehicle height, ready to drive'}, {'id': '06T', 'value': '100', 'unit': 'L', 'text': 'Fuel tank capacity'}, {'id': '38T', 'value': '850', 'unit': 'Nm', 'text': 'Maximum torque'}, {'id': '140T', 'value': 'Verbrennungsmotor', 'text': 'Primary source of power'}, {'id': '14T', 'value': '4873', 'unit': 'mm', 'text': 'Vehicle length'}, {'id': '36T', 'value': '585', 'unit': 'hp', 'text': 'Rated output'}, {'id': '02T', 'value': '5', 'text': 'No. of doors (inc. large tailgate)'}, {'id': '24T', 'value': '275/50 R20 113W XL M+S', 'text': 'Front tyre designation'}, {'id': '120T', 'value': 'n.a.', 'unit': 'V', 'text': 'Voltage nominal'}, {'id': '78T', 'value': 'SP', 'text': 'Fuel type'}, {'id': '66T', 'value': '2890', 'unit': 'mm', 'text': 'Wheelbase'}, {'id': '10T', 'value': '2950', 'unit': 'kg', 'text': 'Perm. trailer load, braked (up to12 %)'}, {'id': '32T', 'value': '3982', 'unit': 'cc', 'text': 'Displacement (bore x stroke)'}, {'id': '74T', 'value': '12.0', 'unit': 'L', 'text': 'Fuel tank reserve'}, {'id': '09T', 'unit': 'kg', 'text': 'Payload (EU)'}, {'id': '29T', 'value': '9', 'text': 'No. of forwards gears'}, {'id': '219T', 'value': '236', 'unit': 'kg', 'text': 'Permissible drawbar load'}, {'id': '39T', 'value': '7000', 'unit': '1/min', 'text': 'Maximum engine speed'}, {'id': '15T', 'value': '2187', 'unit': 'mm', 'text': 'Vehicle width inc. exterior mirrors'}, {'id': '141T', 'text': 'Secondary source of power'}, {'id': '03T', 'value': '454', 'unit': 'L', 'text': 'VDA luggage space, closed'}, {'id': '25T', 'value': '275/50 R20 113W XL M+S', 'text': 'Rear tyre designation'}, {'id': '35T', 'value': '430', 'unit': 'kW', 'text': 'Rated output'}, {'id': '01T', 'value': '5', 'text': 'Perm. no. of seats'}, {'id': '23T', 'value': '4x4 (AWD)', 'text': 'Type of propulsion'}, {'id': '89T', 'value': '1984', 'unit': 'mm', 'text': 'Vehicle width without mirrors'}, {'id': '11T', 'unit': 'kg', 'text': 'Perm. trailer load, unbraked'}, {'id': '33T', 'value': 'V8', 'text': 'No. of cylinders/arrangement'}, {'id': '113T', 'unit': 'kWh', 'text': 'HV battery – usable energy content'}, {'id': '41T', 'value': 'ULEV125', 'text': 'Exhaust emissions standard'}, {'id': '81T', 'value': 'auto.', 'text': 'Transmission - type of gearshift'}], 'transmissiontype': {'code': 'A', 'text': 'automatic transmission'}, 'upholstery': {'description': 'Nappa Leather macchiato beige/espresso brown', 'type': 'FABRIC', 'group': 'E', 'code': '805', 'codeType': 'XX'}, 'vin11': 'W1NYC7HJ6RX', 'weight': {'total': 3200, 'axis1': 1550, 'axis2': 1900}}}\n",
      "Failed to fetch data for VIN: WWNYC7HJ6RX510999\n",
      "Failed to fetch data for VIN: WWNYC7HJ6RX510100\n",
      "Failed to fetch data for VIN: WWNYC7HJ6RX509201\n",
      "Failed to fetch data for VIN: WWNYC7HJ6RX508302\n",
      "Failed to fetch data for VIN: WWNYC7HJ6RX507403\n",
      "Failed to fetch data for VIN: WWNYC7HJ6RX506504\n",
      "Failed to fetch data for VIN: WWNYC7HJ6RX505605\n",
      "Failed to fetch data for VIN: WWNYC7HJ6RX504706\n",
      "Failed to fetch data for VIN: WWNYC7HJ6RX503807\n",
      "Failed to fetch data for VIN: WWNYC7HJ6RX502908\n",
      "Failed to fetch data for VIN: WWNYC7HJ6RX502009\n",
      "Failed to fetch data for VIN: WWNYC7HJ6RX501110\n",
      "Failed to fetch data for VIN: WWNYC7HJ6RX500211\n",
      "Failed to fetch data for VIN: WWNYC7HJ6RX499312\n",
      "Failed to fetch data for VIN: WWNYC7HJ6RX498413\n",
      "Failed to fetch data for VIN: WWNYC7HJ6RX497514\n",
      "Failed to fetch data for VIN: WWNYC7HJ6RX496615\n",
      "Failed to fetch data for VIN: WWNYC7HJ6RX495716\n",
      "Failed to fetch data for VIN: WWNYC7HJ6RX494817\n",
      "Failed to fetch data for VIN: WWNYC7HJ6RX493918\n",
      "Failed to fetch data for VIN: WWNYC7HJ6RX493019\n",
      "Failed to fetch data for VIN: WWNYC7HJ6RX492120\n",
      "Failed to fetch data for VIN: WWNYC7HJ6RX491221\n",
      "Failed to fetch data for VIN: WWNYC7HJ6RX490322\n"
     ]
    },
    {
     "ename": "KeyboardInterrupt",
     "evalue": "",
     "output_type": "error",
     "traceback": [
      "\u001b[1;31m---------------------------------------------------------------------------\u001b[0m",
      "\u001b[1;31mKeyboardInterrupt\u001b[0m                         Traceback (most recent call last)",
      "Cell \u001b[1;32mIn[10], line 5\u001b[0m\n\u001b[0;32m      3\u001b[0m api_call \u001b[38;5;241m=\u001b[39m \u001b[38;5;124mf\u001b[39m\u001b[38;5;124m\"\u001b[39m\u001b[38;5;132;01m{\u001b[39;00mapi_url\u001b[38;5;132;01m}\u001b[39;00m\u001b[38;5;132;01m{\u001b[39;00mvin\u001b[38;5;132;01m}\u001b[39;00m\u001b[38;5;124m?locale=en_GB&payloadNullValues=false\u001b[39m\u001b[38;5;124m\"\u001b[39m\n\u001b[0;32m      4\u001b[0m headers \u001b[38;5;241m=\u001b[39m {\u001b[38;5;124m'\u001b[39m\u001b[38;5;124mx-api-key\u001b[39m\u001b[38;5;124m'\u001b[39m: api_key, \u001b[38;5;124m'\u001b[39m\u001b[38;5;124maccept\u001b[39m\u001b[38;5;124m'\u001b[39m: \u001b[38;5;124m'\u001b[39m\u001b[38;5;124mapplication/json\u001b[39m\u001b[38;5;124m'\u001b[39m}\n\u001b[1;32m----> 5\u001b[0m response \u001b[38;5;241m=\u001b[39m requests\u001b[38;5;241m.\u001b[39mget(api_call, headers\u001b[38;5;241m=\u001b[39mheaders)\n\u001b[0;32m      7\u001b[0m \u001b[38;5;28;01mif\u001b[39;00m response\u001b[38;5;241m.\u001b[39mstatus_code \u001b[38;5;241m==\u001b[39m \u001b[38;5;241m200\u001b[39m:\n\u001b[0;32m      8\u001b[0m     api_data \u001b[38;5;241m=\u001b[39m response\u001b[38;5;241m.\u001b[39mjson()\n",
      "File \u001b[1;32mc:\\Users\\Beste Aydemir\\anaconda3\\Lib\\site-packages\\requests\\api.py:73\u001b[0m, in \u001b[0;36mget\u001b[1;34m(url, params, **kwargs)\u001b[0m\n\u001b[0;32m     62\u001b[0m \u001b[38;5;28;01mdef\u001b[39;00m \u001b[38;5;21mget\u001b[39m(url, params\u001b[38;5;241m=\u001b[39m\u001b[38;5;28;01mNone\u001b[39;00m, \u001b[38;5;241m*\u001b[39m\u001b[38;5;241m*\u001b[39mkwargs):\n\u001b[0;32m     63\u001b[0m \u001b[38;5;250m    \u001b[39m\u001b[38;5;124mr\u001b[39m\u001b[38;5;124;03m\"\"\"Sends a GET request.\u001b[39;00m\n\u001b[0;32m     64\u001b[0m \n\u001b[0;32m     65\u001b[0m \u001b[38;5;124;03m    :param url: URL for the new :class:`Request` object.\u001b[39;00m\n\u001b[1;32m   (...)\u001b[0m\n\u001b[0;32m     70\u001b[0m \u001b[38;5;124;03m    :rtype: requests.Response\u001b[39;00m\n\u001b[0;32m     71\u001b[0m \u001b[38;5;124;03m    \"\"\"\u001b[39;00m\n\u001b[1;32m---> 73\u001b[0m     \u001b[38;5;28;01mreturn\u001b[39;00m request(\u001b[38;5;124m\"\u001b[39m\u001b[38;5;124mget\u001b[39m\u001b[38;5;124m\"\u001b[39m, url, params\u001b[38;5;241m=\u001b[39mparams, \u001b[38;5;241m*\u001b[39m\u001b[38;5;241m*\u001b[39mkwargs)\n",
      "File \u001b[1;32mc:\\Users\\Beste Aydemir\\anaconda3\\Lib\\site-packages\\requests\\api.py:59\u001b[0m, in \u001b[0;36mrequest\u001b[1;34m(method, url, **kwargs)\u001b[0m\n\u001b[0;32m     55\u001b[0m \u001b[38;5;66;03m# By using the 'with' statement we are sure the session is closed, thus we\u001b[39;00m\n\u001b[0;32m     56\u001b[0m \u001b[38;5;66;03m# avoid leaving sockets open which can trigger a ResourceWarning in some\u001b[39;00m\n\u001b[0;32m     57\u001b[0m \u001b[38;5;66;03m# cases, and look like a memory leak in others.\u001b[39;00m\n\u001b[0;32m     58\u001b[0m \u001b[38;5;28;01mwith\u001b[39;00m sessions\u001b[38;5;241m.\u001b[39mSession() \u001b[38;5;28;01mas\u001b[39;00m session:\n\u001b[1;32m---> 59\u001b[0m     \u001b[38;5;28;01mreturn\u001b[39;00m session\u001b[38;5;241m.\u001b[39mrequest(method\u001b[38;5;241m=\u001b[39mmethod, url\u001b[38;5;241m=\u001b[39murl, \u001b[38;5;241m*\u001b[39m\u001b[38;5;241m*\u001b[39mkwargs)\n",
      "File \u001b[1;32mc:\\Users\\Beste Aydemir\\anaconda3\\Lib\\site-packages\\requests\\sessions.py:589\u001b[0m, in \u001b[0;36mSession.request\u001b[1;34m(self, method, url, params, data, headers, cookies, files, auth, timeout, allow_redirects, proxies, hooks, stream, verify, cert, json)\u001b[0m\n\u001b[0;32m    584\u001b[0m send_kwargs \u001b[38;5;241m=\u001b[39m {\n\u001b[0;32m    585\u001b[0m     \u001b[38;5;124m\"\u001b[39m\u001b[38;5;124mtimeout\u001b[39m\u001b[38;5;124m\"\u001b[39m: timeout,\n\u001b[0;32m    586\u001b[0m     \u001b[38;5;124m\"\u001b[39m\u001b[38;5;124mallow_redirects\u001b[39m\u001b[38;5;124m\"\u001b[39m: allow_redirects,\n\u001b[0;32m    587\u001b[0m }\n\u001b[0;32m    588\u001b[0m send_kwargs\u001b[38;5;241m.\u001b[39mupdate(settings)\n\u001b[1;32m--> 589\u001b[0m resp \u001b[38;5;241m=\u001b[39m \u001b[38;5;28mself\u001b[39m\u001b[38;5;241m.\u001b[39msend(prep, \u001b[38;5;241m*\u001b[39m\u001b[38;5;241m*\u001b[39msend_kwargs)\n\u001b[0;32m    591\u001b[0m \u001b[38;5;28;01mreturn\u001b[39;00m resp\n",
      "File \u001b[1;32mc:\\Users\\Beste Aydemir\\anaconda3\\Lib\\site-packages\\requests\\sessions.py:703\u001b[0m, in \u001b[0;36mSession.send\u001b[1;34m(self, request, **kwargs)\u001b[0m\n\u001b[0;32m    700\u001b[0m start \u001b[38;5;241m=\u001b[39m preferred_clock()\n\u001b[0;32m    702\u001b[0m \u001b[38;5;66;03m# Send the request\u001b[39;00m\n\u001b[1;32m--> 703\u001b[0m r \u001b[38;5;241m=\u001b[39m adapter\u001b[38;5;241m.\u001b[39msend(request, \u001b[38;5;241m*\u001b[39m\u001b[38;5;241m*\u001b[39mkwargs)\n\u001b[0;32m    705\u001b[0m \u001b[38;5;66;03m# Total elapsed time of the request (approximately)\u001b[39;00m\n\u001b[0;32m    706\u001b[0m elapsed \u001b[38;5;241m=\u001b[39m preferred_clock() \u001b[38;5;241m-\u001b[39m start\n",
      "File \u001b[1;32mc:\\Users\\Beste Aydemir\\anaconda3\\Lib\\site-packages\\requests\\adapters.py:486\u001b[0m, in \u001b[0;36mHTTPAdapter.send\u001b[1;34m(self, request, stream, timeout, verify, cert, proxies)\u001b[0m\n\u001b[0;32m    483\u001b[0m     timeout \u001b[38;5;241m=\u001b[39m TimeoutSauce(connect\u001b[38;5;241m=\u001b[39mtimeout, read\u001b[38;5;241m=\u001b[39mtimeout)\n\u001b[0;32m    485\u001b[0m \u001b[38;5;28;01mtry\u001b[39;00m:\n\u001b[1;32m--> 486\u001b[0m     resp \u001b[38;5;241m=\u001b[39m conn\u001b[38;5;241m.\u001b[39murlopen(\n\u001b[0;32m    487\u001b[0m         method\u001b[38;5;241m=\u001b[39mrequest\u001b[38;5;241m.\u001b[39mmethod,\n\u001b[0;32m    488\u001b[0m         url\u001b[38;5;241m=\u001b[39murl,\n\u001b[0;32m    489\u001b[0m         body\u001b[38;5;241m=\u001b[39mrequest\u001b[38;5;241m.\u001b[39mbody,\n\u001b[0;32m    490\u001b[0m         headers\u001b[38;5;241m=\u001b[39mrequest\u001b[38;5;241m.\u001b[39mheaders,\n\u001b[0;32m    491\u001b[0m         redirect\u001b[38;5;241m=\u001b[39m\u001b[38;5;28;01mFalse\u001b[39;00m,\n\u001b[0;32m    492\u001b[0m         assert_same_host\u001b[38;5;241m=\u001b[39m\u001b[38;5;28;01mFalse\u001b[39;00m,\n\u001b[0;32m    493\u001b[0m         preload_content\u001b[38;5;241m=\u001b[39m\u001b[38;5;28;01mFalse\u001b[39;00m,\n\u001b[0;32m    494\u001b[0m         decode_content\u001b[38;5;241m=\u001b[39m\u001b[38;5;28;01mFalse\u001b[39;00m,\n\u001b[0;32m    495\u001b[0m         retries\u001b[38;5;241m=\u001b[39m\u001b[38;5;28mself\u001b[39m\u001b[38;5;241m.\u001b[39mmax_retries,\n\u001b[0;32m    496\u001b[0m         timeout\u001b[38;5;241m=\u001b[39mtimeout,\n\u001b[0;32m    497\u001b[0m         chunked\u001b[38;5;241m=\u001b[39mchunked,\n\u001b[0;32m    498\u001b[0m     )\n\u001b[0;32m    500\u001b[0m \u001b[38;5;28;01mexcept\u001b[39;00m (ProtocolError, \u001b[38;5;167;01mOSError\u001b[39;00m) \u001b[38;5;28;01mas\u001b[39;00m err:\n\u001b[0;32m    501\u001b[0m     \u001b[38;5;28;01mraise\u001b[39;00m \u001b[38;5;167;01mConnectionError\u001b[39;00m(err, request\u001b[38;5;241m=\u001b[39mrequest)\n",
      "File \u001b[1;32mc:\\Users\\Beste Aydemir\\anaconda3\\Lib\\site-packages\\urllib3\\connectionpool.py:714\u001b[0m, in \u001b[0;36mHTTPConnectionPool.urlopen\u001b[1;34m(self, method, url, body, headers, retries, redirect, assert_same_host, timeout, pool_timeout, release_conn, chunked, body_pos, **response_kw)\u001b[0m\n\u001b[0;32m    711\u001b[0m     \u001b[38;5;28mself\u001b[39m\u001b[38;5;241m.\u001b[39m_prepare_proxy(conn)\n\u001b[0;32m    713\u001b[0m \u001b[38;5;66;03m# Make the request on the httplib connection object.\u001b[39;00m\n\u001b[1;32m--> 714\u001b[0m httplib_response \u001b[38;5;241m=\u001b[39m \u001b[38;5;28mself\u001b[39m\u001b[38;5;241m.\u001b[39m_make_request(\n\u001b[0;32m    715\u001b[0m     conn,\n\u001b[0;32m    716\u001b[0m     method,\n\u001b[0;32m    717\u001b[0m     url,\n\u001b[0;32m    718\u001b[0m     timeout\u001b[38;5;241m=\u001b[39mtimeout_obj,\n\u001b[0;32m    719\u001b[0m     body\u001b[38;5;241m=\u001b[39mbody,\n\u001b[0;32m    720\u001b[0m     headers\u001b[38;5;241m=\u001b[39mheaders,\n\u001b[0;32m    721\u001b[0m     chunked\u001b[38;5;241m=\u001b[39mchunked,\n\u001b[0;32m    722\u001b[0m )\n\u001b[0;32m    724\u001b[0m \u001b[38;5;66;03m# If we're going to release the connection in ``finally:``, then\u001b[39;00m\n\u001b[0;32m    725\u001b[0m \u001b[38;5;66;03m# the response doesn't need to know about the connection. Otherwise\u001b[39;00m\n\u001b[0;32m    726\u001b[0m \u001b[38;5;66;03m# it will also try to release it and we'll have a double-release\u001b[39;00m\n\u001b[0;32m    727\u001b[0m \u001b[38;5;66;03m# mess.\u001b[39;00m\n\u001b[0;32m    728\u001b[0m response_conn \u001b[38;5;241m=\u001b[39m conn \u001b[38;5;28;01mif\u001b[39;00m \u001b[38;5;129;01mnot\u001b[39;00m release_conn \u001b[38;5;28;01melse\u001b[39;00m \u001b[38;5;28;01mNone\u001b[39;00m\n",
      "File \u001b[1;32mc:\\Users\\Beste Aydemir\\anaconda3\\Lib\\site-packages\\urllib3\\connectionpool.py:466\u001b[0m, in \u001b[0;36mHTTPConnectionPool._make_request\u001b[1;34m(self, conn, method, url, timeout, chunked, **httplib_request_kw)\u001b[0m\n\u001b[0;32m    461\u001b[0m             httplib_response \u001b[38;5;241m=\u001b[39m conn\u001b[38;5;241m.\u001b[39mgetresponse()\n\u001b[0;32m    462\u001b[0m         \u001b[38;5;28;01mexcept\u001b[39;00m \u001b[38;5;167;01mBaseException\u001b[39;00m \u001b[38;5;28;01mas\u001b[39;00m e:\n\u001b[0;32m    463\u001b[0m             \u001b[38;5;66;03m# Remove the TypeError from the exception chain in\u001b[39;00m\n\u001b[0;32m    464\u001b[0m             \u001b[38;5;66;03m# Python 3 (including for exceptions like SystemExit).\u001b[39;00m\n\u001b[0;32m    465\u001b[0m             \u001b[38;5;66;03m# Otherwise it looks like a bug in the code.\u001b[39;00m\n\u001b[1;32m--> 466\u001b[0m             six\u001b[38;5;241m.\u001b[39mraise_from(e, \u001b[38;5;28;01mNone\u001b[39;00m)\n\u001b[0;32m    467\u001b[0m \u001b[38;5;28;01mexcept\u001b[39;00m (SocketTimeout, BaseSSLError, SocketError) \u001b[38;5;28;01mas\u001b[39;00m e:\n\u001b[0;32m    468\u001b[0m     \u001b[38;5;28mself\u001b[39m\u001b[38;5;241m.\u001b[39m_raise_timeout(err\u001b[38;5;241m=\u001b[39me, url\u001b[38;5;241m=\u001b[39murl, timeout_value\u001b[38;5;241m=\u001b[39mread_timeout)\n",
      "File \u001b[1;32m<string>:3\u001b[0m, in \u001b[0;36mraise_from\u001b[1;34m(value, from_value)\u001b[0m\n",
      "File \u001b[1;32mc:\\Users\\Beste Aydemir\\anaconda3\\Lib\\site-packages\\urllib3\\connectionpool.py:461\u001b[0m, in \u001b[0;36mHTTPConnectionPool._make_request\u001b[1;34m(self, conn, method, url, timeout, chunked, **httplib_request_kw)\u001b[0m\n\u001b[0;32m    458\u001b[0m \u001b[38;5;28;01mexcept\u001b[39;00m \u001b[38;5;167;01mTypeError\u001b[39;00m:\n\u001b[0;32m    459\u001b[0m     \u001b[38;5;66;03m# Python 3\u001b[39;00m\n\u001b[0;32m    460\u001b[0m     \u001b[38;5;28;01mtry\u001b[39;00m:\n\u001b[1;32m--> 461\u001b[0m         httplib_response \u001b[38;5;241m=\u001b[39m conn\u001b[38;5;241m.\u001b[39mgetresponse()\n\u001b[0;32m    462\u001b[0m     \u001b[38;5;28;01mexcept\u001b[39;00m \u001b[38;5;167;01mBaseException\u001b[39;00m \u001b[38;5;28;01mas\u001b[39;00m e:\n\u001b[0;32m    463\u001b[0m         \u001b[38;5;66;03m# Remove the TypeError from the exception chain in\u001b[39;00m\n\u001b[0;32m    464\u001b[0m         \u001b[38;5;66;03m# Python 3 (including for exceptions like SystemExit).\u001b[39;00m\n\u001b[0;32m    465\u001b[0m         \u001b[38;5;66;03m# Otherwise it looks like a bug in the code.\u001b[39;00m\n\u001b[0;32m    466\u001b[0m         six\u001b[38;5;241m.\u001b[39mraise_from(e, \u001b[38;5;28;01mNone\u001b[39;00m)\n",
      "File \u001b[1;32mc:\\Users\\Beste Aydemir\\anaconda3\\Lib\\http\\client.py:1378\u001b[0m, in \u001b[0;36mHTTPConnection.getresponse\u001b[1;34m(self)\u001b[0m\n\u001b[0;32m   1376\u001b[0m \u001b[38;5;28;01mtry\u001b[39;00m:\n\u001b[0;32m   1377\u001b[0m     \u001b[38;5;28;01mtry\u001b[39;00m:\n\u001b[1;32m-> 1378\u001b[0m         response\u001b[38;5;241m.\u001b[39mbegin()\n\u001b[0;32m   1379\u001b[0m     \u001b[38;5;28;01mexcept\u001b[39;00m \u001b[38;5;167;01mConnectionError\u001b[39;00m:\n\u001b[0;32m   1380\u001b[0m         \u001b[38;5;28mself\u001b[39m\u001b[38;5;241m.\u001b[39mclose()\n",
      "File \u001b[1;32mc:\\Users\\Beste Aydemir\\anaconda3\\Lib\\http\\client.py:318\u001b[0m, in \u001b[0;36mHTTPResponse.begin\u001b[1;34m(self)\u001b[0m\n\u001b[0;32m    316\u001b[0m \u001b[38;5;66;03m# read until we get a non-100 response\u001b[39;00m\n\u001b[0;32m    317\u001b[0m \u001b[38;5;28;01mwhile\u001b[39;00m \u001b[38;5;28;01mTrue\u001b[39;00m:\n\u001b[1;32m--> 318\u001b[0m     version, status, reason \u001b[38;5;241m=\u001b[39m \u001b[38;5;28mself\u001b[39m\u001b[38;5;241m.\u001b[39m_read_status()\n\u001b[0;32m    319\u001b[0m     \u001b[38;5;28;01mif\u001b[39;00m status \u001b[38;5;241m!=\u001b[39m CONTINUE:\n\u001b[0;32m    320\u001b[0m         \u001b[38;5;28;01mbreak\u001b[39;00m\n",
      "File \u001b[1;32mc:\\Users\\Beste Aydemir\\anaconda3\\Lib\\http\\client.py:279\u001b[0m, in \u001b[0;36mHTTPResponse._read_status\u001b[1;34m(self)\u001b[0m\n\u001b[0;32m    278\u001b[0m \u001b[38;5;28;01mdef\u001b[39;00m \u001b[38;5;21m_read_status\u001b[39m(\u001b[38;5;28mself\u001b[39m):\n\u001b[1;32m--> 279\u001b[0m     line \u001b[38;5;241m=\u001b[39m \u001b[38;5;28mstr\u001b[39m(\u001b[38;5;28mself\u001b[39m\u001b[38;5;241m.\u001b[39mfp\u001b[38;5;241m.\u001b[39mreadline(_MAXLINE \u001b[38;5;241m+\u001b[39m \u001b[38;5;241m1\u001b[39m), \u001b[38;5;124m\"\u001b[39m\u001b[38;5;124miso-8859-1\u001b[39m\u001b[38;5;124m\"\u001b[39m)\n\u001b[0;32m    280\u001b[0m     \u001b[38;5;28;01mif\u001b[39;00m \u001b[38;5;28mlen\u001b[39m(line) \u001b[38;5;241m>\u001b[39m _MAXLINE:\n\u001b[0;32m    281\u001b[0m         \u001b[38;5;28;01mraise\u001b[39;00m LineTooLong(\u001b[38;5;124m\"\u001b[39m\u001b[38;5;124mstatus line\u001b[39m\u001b[38;5;124m\"\u001b[39m)\n",
      "File \u001b[1;32mc:\\Users\\Beste Aydemir\\anaconda3\\Lib\\socket.py:706\u001b[0m, in \u001b[0;36mSocketIO.readinto\u001b[1;34m(self, b)\u001b[0m\n\u001b[0;32m    704\u001b[0m \u001b[38;5;28;01mwhile\u001b[39;00m \u001b[38;5;28;01mTrue\u001b[39;00m:\n\u001b[0;32m    705\u001b[0m     \u001b[38;5;28;01mtry\u001b[39;00m:\n\u001b[1;32m--> 706\u001b[0m         \u001b[38;5;28;01mreturn\u001b[39;00m \u001b[38;5;28mself\u001b[39m\u001b[38;5;241m.\u001b[39m_sock\u001b[38;5;241m.\u001b[39mrecv_into(b)\n\u001b[0;32m    707\u001b[0m     \u001b[38;5;28;01mexcept\u001b[39;00m timeout:\n\u001b[0;32m    708\u001b[0m         \u001b[38;5;28mself\u001b[39m\u001b[38;5;241m.\u001b[39m_timeout_occurred \u001b[38;5;241m=\u001b[39m \u001b[38;5;28;01mTrue\u001b[39;00m\n",
      "File \u001b[1;32mc:\\Users\\Beste Aydemir\\anaconda3\\Lib\\ssl.py:1311\u001b[0m, in \u001b[0;36mSSLSocket.recv_into\u001b[1;34m(self, buffer, nbytes, flags)\u001b[0m\n\u001b[0;32m   1307\u001b[0m     \u001b[38;5;28;01mif\u001b[39;00m flags \u001b[38;5;241m!=\u001b[39m \u001b[38;5;241m0\u001b[39m:\n\u001b[0;32m   1308\u001b[0m         \u001b[38;5;28;01mraise\u001b[39;00m \u001b[38;5;167;01mValueError\u001b[39;00m(\n\u001b[0;32m   1309\u001b[0m           \u001b[38;5;124m\"\u001b[39m\u001b[38;5;124mnon-zero flags not allowed in calls to recv_into() on \u001b[39m\u001b[38;5;132;01m%s\u001b[39;00m\u001b[38;5;124m\"\u001b[39m \u001b[38;5;241m%\u001b[39m\n\u001b[0;32m   1310\u001b[0m           \u001b[38;5;28mself\u001b[39m\u001b[38;5;241m.\u001b[39m\u001b[38;5;18m__class__\u001b[39m)\n\u001b[1;32m-> 1311\u001b[0m     \u001b[38;5;28;01mreturn\u001b[39;00m \u001b[38;5;28mself\u001b[39m\u001b[38;5;241m.\u001b[39mread(nbytes, buffer)\n\u001b[0;32m   1312\u001b[0m \u001b[38;5;28;01melse\u001b[39;00m:\n\u001b[0;32m   1313\u001b[0m     \u001b[38;5;28;01mreturn\u001b[39;00m \u001b[38;5;28msuper\u001b[39m()\u001b[38;5;241m.\u001b[39mrecv_into(buffer, nbytes, flags)\n",
      "File \u001b[1;32mc:\\Users\\Beste Aydemir\\anaconda3\\Lib\\ssl.py:1167\u001b[0m, in \u001b[0;36mSSLSocket.read\u001b[1;34m(self, len, buffer)\u001b[0m\n\u001b[0;32m   1165\u001b[0m \u001b[38;5;28;01mtry\u001b[39;00m:\n\u001b[0;32m   1166\u001b[0m     \u001b[38;5;28;01mif\u001b[39;00m buffer \u001b[38;5;129;01mis\u001b[39;00m \u001b[38;5;129;01mnot\u001b[39;00m \u001b[38;5;28;01mNone\u001b[39;00m:\n\u001b[1;32m-> 1167\u001b[0m         \u001b[38;5;28;01mreturn\u001b[39;00m \u001b[38;5;28mself\u001b[39m\u001b[38;5;241m.\u001b[39m_sslobj\u001b[38;5;241m.\u001b[39mread(\u001b[38;5;28mlen\u001b[39m, buffer)\n\u001b[0;32m   1168\u001b[0m     \u001b[38;5;28;01melse\u001b[39;00m:\n\u001b[0;32m   1169\u001b[0m         \u001b[38;5;28;01mreturn\u001b[39;00m \u001b[38;5;28mself\u001b[39m\u001b[38;5;241m.\u001b[39m_sslobj\u001b[38;5;241m.\u001b[39mread(\u001b[38;5;28mlen\u001b[39m)\n",
      "\u001b[1;31mKeyboardInterrupt\u001b[0m: "
     ]
    }
   ],
   "source": [
    "for index, row in df.iterrows():\n",
    "    vin = row['VIN__c']\n",
    "    api_call = f\"{api_url}{vin}?locale=en_GB&payloadNullValues=false\"\n",
    "    headers = {'x-api-key': api_key, 'accept': 'application/json'}\n",
    "    response = requests.get(api_call, headers=headers)\n",
    "    \n",
    "    if response.status_code == 200:\n",
    "        api_data = response.json()\n",
    "        print(vin)\n",
    "        print(api_data)\n",
    "        \n",
    "        # Extracting information from api_data\n",
    "        brand = api_data['vehicleData']['brand']['text']\n",
    "        model = api_data['vehicleData']['model']\n",
    "        #fuel_type = api_data['vehicleData']['primaryEngine']['fuelType']['text']\n",
    "        # power_kw = api_data['vehicleData']['powerkw']\n",
    "        # power_ps = api_data['vehicleData']['powerps']\n",
    "        # transmission_type = api_data['vehicleData']['transmissiontype']['text']\n",
    "        # weight_total = api_data['vehicleData']['weight']['total']\n",
    "        # wheelbase = api_data['vehicleData']['wheelbase']\n",
    "        \n",
    "        # # Update DataFrame with extracted information\n",
    "        # df.at[index, 'Brand'] = brand\n",
    "        # df.at[index, 'Model'] = model\n",
    "        # df.at[index, 'Fuel_Type'] = fuel_type\n",
    "        # df.at[index, 'Power_kw'] = power_kw\n",
    "        # df.at[index, 'Power_ps'] = power_ps\n",
    "        # df.at[index, 'Transmission_Type'] = transmission_type\n",
    "        # df.at[index, 'Weight_Total'] = weight_total\n",
    "        # df.at[index, 'Wheelbase'] = wheelbase\n",
    "        \n",
    "    else:\n",
    "        print(f\"Failed to fetch data for VIN: {vin}\")\n"
   ]
  },
  {
   "cell_type": "code",
   "execution_count": 11,
   "metadata": {},
   "outputs": [
    {
     "name": "stdout",
     "output_type": "stream",
     "text": [
      "4JGGM5DB2RA033564\n",
      "{'vehicleData': {'additionalSpecs': {'productSeries': '294', 'tire': 'MICHELIN', 'vehicleModelDesignation': '294653'}, 'allwheel': '1', 'baumuster': '294653', 'body': {'code': '6', 'text': 'Off-Roader'}, 'brand': {'code': '095', 'text': 'Mercedes-Benz'}, 'countrynumber': '705', 'enginetype': {'code': '7', 'text': 'Electric'}, 'fin11': '4JG2946531A', 'finaldate': '20231025', 'leather': '0', 'longType': 'Mercedes-AMG EQE 53 4MATIC+ SUV', 'metallic': '0', 'model': 'EQE', 'modelName': 'EQE', 'modelYear': '804', 'modelYearYear': '2024', 'numberofdoors': 4, 'numberofseats': 5, 'options': [{'description': 'Automatic Lane Change Assist', 'type': 'F', 'code': 'K46', 'codeType': 'SC'}, {'description': 'Mercedes-Benz emergency call system', 'type': 'F', 'code': '351', 'codeType': 'SA'}, {'description': 'Garage door opener (frequency range 284-390 MHz)', 'type': 'F', 'code': '232', 'codeType': 'SA'}, {'description': 'Active Distance Assist DISTRONIC', 'type': 'F', 'code': '233', 'codeType': 'SA'}, {'description': 'Tyre pressure monitor system', 'type': 'F', 'code': '475', 'codeType': 'SA'}, {'description': 'Extended MBUX functions', 'type': 'F', 'code': '355', 'codeType': 'SA'}, {'description': 'Active Parking Assist with PARKTRONIC', 'type': 'F', 'code': '235', 'codeType': 'SA'}, {'description': 'Remote Services Premium', 'type': 'F', 'code': '34U', 'codeType': 'SA'}, {'description': 'Heated front seats', 'type': 'F', 'code': '873', 'codeType': 'SA'}, {'description': 'AMG steering wheel buttons', 'type': 'F', 'code': 'U88', 'codeType': 'SA'}, {'description': 'Traffic Sign Assist', 'type': 'F', 'code': '513', 'codeType': 'SA'}, {'description': 'Omission of first-aid kit', 'type': 'F', 'code': '634', 'codeType': 'SA'}, {'description': 'Interior Light package', 'type': 'F', 'code': '876', 'codeType': 'SA'}, {'description': 'Omission of warning triangle', 'type': 'F', 'code': '636', 'codeType': 'SA'}, {'description': 'HD digital radio standard', 'type': 'F', 'code': '517', 'codeType': 'SA'}, {'description': 'designo seat belts in red', 'type': 'F', 'code': 'Y05', 'codeType': 'SA'}, {'description': 'AMG Performance steering wheel in nappa leather', 'type': 'F', 'code': 'L6J', 'codeType': 'SA'}, {'description': 'Techn. Communication Module Variant f. North America', 'type': 'F', 'code': '1B4', 'codeType': 'SC'}, {'description': 'Stowage compartment beneath centre console', 'type': 'F', 'code': '5B1', 'codeType': 'SA'}, {'description': 'Pre-entry climate control', 'type': 'S', 'code': 'S89#', 'codeType': 'SA'}, {'description': 'Power front left seat with memory function', 'type': 'F', 'code': '241', 'codeType': 'SA'}, {'description': 'Driver seat electrically adjustable with memory', 'type': 'F', 'code': '242', 'codeType': 'SA'}, {'description': 'Active Lane Keeping Assist', 'type': 'F', 'code': '243', 'codeType': 'SA'}, {'description': 'Hard-disc navigation', 'type': 'F', 'code': '365', 'codeType': 'SA'}, {'description': 'Remote and extended Charging Services Plus', 'type': 'F', 'code': '35U', 'codeType': 'SA'}, {'description': 'Preinstallation for Live Traffic Information', 'type': 'F', 'code': '367', 'codeType': 'SA'}, {'description': 'Refrigerant alternative', 'type': 'F', 'code': '2U8', 'codeType': 'SC'}, {'description': 'AMG RIDE CONTROL+ suspension', 'type': 'F', 'code': '489', 'codeType': 'SA'}, {'description': 'Front passenger seat with seat occupancy sensor', 'type': 'F', 'code': 'U10', 'codeType': 'SA'}, {'description': \"Interior mirror and driver's exterior mirror automatically dimming\", 'type': 'F', 'code': '249', 'codeType': 'SA'}, {'description': 'Roof liner in black fabric', 'type': 'F', 'code': '51U', 'codeType': 'SA'}, {'description': 'KEYLESS-GO', 'type': 'F', 'code': '889', 'codeType': 'SA'}, {'description': 'Technical modifications (04)', 'type': 'F', 'code': '804', 'codeType': 'MJ'}, {'description': \"Owner's Manual and service information - English USA/CAN\", 'type': 'F', 'code': '12B', 'codeType': 'SA'}, {'description': 'Child Presence Detection', 'type': 'F', 'code': '88B', 'codeType': 'SA'}, {'description': 'GUARD 360° Vehicle protection Plus', 'type': 'F', 'code': 'P82', 'codeType': 'PC'}, {'description': 'Left-hand drive', 'type': 'F', 'code': 'L', 'codeType': 'LE'}, {'description': 'SPEED- + LOADINDEX 107W XL', 'type': 'F', 'code': '2V3', 'codeType': 'SC'}, {'description': 'USA specification', 'type': 'F', 'code': '494', 'codeType': 'PL'}, {'description': 'EASY-PACK tailgate', 'type': 'F', 'code': '890', 'codeType': 'SA'}, {'description': 'Ambient lighting', 'type': 'F', 'code': '891', 'codeType': 'SA'}, {'description': 'Anthracite linestructure lime wood trim', 'type': 'F', 'code': 'H08', 'codeType': 'SA'}, {'description': 'Upholstery in ARTICO man-made leather / MICROCUT microfibre', 'type': 'F', 'code': '600A', 'codeType': 'AS'}, {'description': 'AMG bodystyling', 'type': 'F', 'code': '772', 'codeType': 'SA'}, {'description': 'Ambient lighting Plus', 'type': 'F', 'code': '894', 'codeType': 'SA'}, {'description': '4-way lumbar support', 'type': 'F', 'code': 'U22', 'codeType': 'SA'}, {'description': 'Anthracite open-pored linestructure lime wood centre console', 'type': 'F', 'code': '775', 'codeType': 'SA'}, {'description': 'Panoramic sliding sunroof', 'type': 'F', 'code': '413', 'codeType': 'SA'}, {'description': 'Wireless charging and connection via Bluetooth', 'type': 'F', 'code': '897', 'codeType': 'SA'}, {'description': 'MBUX multimedia system', 'type': 'F', 'code': '535', 'codeType': 'SA'}, {'description': 'Burmester® 3D surround sound system', 'type': 'F', 'code': '810', 'codeType': 'SA'}, {'description': 'Sirius satellite radio', 'type': 'F', 'code': '536', 'codeType': 'SA'}, {'description': 'AMG floor mats', 'type': 'F', 'code': 'U26', 'codeType': 'SA'}, {'description': 'DRIVING MODE FOR NOVICE DRIVERS', 'type': 'F', 'code': '40U', 'codeType': 'SA'}, {'description': 'TIREFIT', 'type': 'F', 'code': 'B51', 'codeType': 'SA'}, {'description': 'Acoustic ambient protection', 'type': 'F', 'code': 'B53', 'codeType': 'SA'}, {'description': 'AMG-ENTRY-Variante mit Batterie + 4MATIC', 'type': 'F', 'code': 'MEF2', 'codeType': 'MO'}, {'description': 'Instrument cluster language - American English', 'type': 'F', 'code': '342B', 'codeType': 'DE'}, {'description': 'DYNAMIC SELECT', 'type': 'F', 'code': 'B59', 'codeType': 'SA'}, {'description': 'Alternating current charging system (AC charging)', 'type': 'F', 'code': '81B', 'codeType': 'SA'}, {'description': 'Control code weight management', 'type': 'F', 'code': '8B4', 'codeType': 'SC'}, {'description': 'Rear Sensors for Lane Keeping Assist', 'type': 'F', 'code': '262', 'codeType': 'SA'}, {'description': 'Number plate mounting for America', 'type': 'F', 'code': '264', 'codeType': 'SA'}, {'description': 'Pre-installation for MBUX Entertainment Plus', 'type': 'F', 'code': '49U', 'codeType': 'SA'}, {'description': 'Active Steering Assist', 'type': 'F', 'code': '266', 'codeType': 'SA'}, {'description': '20\" AMG alloy wheels (4) - 5-twin-spoke design', 'type': 'F', 'code': '783', 'codeType': 'SA'}, {'description': 'MBCONNECT - Additional services for electric and plug-in hybrid vehicles', 'type': 'F', 'code': '13U', 'codeType': 'SA'}, {'description': 'Alternative model designation', 'type': 'F', 'code': '267', 'codeType': 'SC'}, {'description': 'Preinstallation for Navigation Services', 'type': 'F', 'code': '01U', 'codeType': 'SA'}, {'description': 'Beginner driver and valet service modes', 'type': 'F', 'code': 'P16', 'codeType': 'PC'}, {'description': 'Standard equipment', 'type': 'S', 'code': '953#', 'codeType': 'PC'}, {'description': 'Automatic speed control', 'type': 'F', 'code': '546', 'codeType': 'SA'}, {'description': 'KEYLESS-GO package', 'type': 'F', 'code': 'P17', 'codeType': 'PC'}, {'description': 'MBUX Hyperscreen', 'type': 'F', 'code': 'PAG', 'codeType': 'PC'}, {'description': 'DRIVING MODE DRIVING SERVICES', 'type': 'F', 'code': '41U', 'codeType': 'SA'}, {'description': 'Cup holder', 'type': 'F', 'code': '309', 'codeType': 'SA'}, {'description': 'Charging socket', 'type': 'F', 'code': '66B', 'codeType': 'SA'}, {'description': 'DIGITAL LIGHT with projection function', 'type': 'F', 'code': 'PAX', 'codeType': 'PC'}, {'description': 'RADGROESSE 21\" RUNDUM VARIANTE 1 (AMG)', 'type': 'F', 'code': 'R5M', 'codeType': 'SC'}, {'description': 'Evasive manoeuvre support', 'type': 'F', 'code': '272', 'codeType': 'SA'}, {'description': 'Driving Assistance Package Plus', 'type': 'F', 'code': 'P20', 'codeType': 'PC'}, {'description': \"Memory package electrically adjustable driver's seat\", 'type': 'F', 'code': '275', 'codeType': 'SA'}, {'description': 'Smartphone integration package', 'type': 'F', 'code': '14U', 'codeType': 'SA'}, {'description': 'Comfort Connectivity package', 'type': 'F', 'code': 'PBG', 'codeType': 'PC'}, {'description': 'Preinstallation for projection function for symbols', 'type': 'F', 'code': '42U', 'codeType': 'SA'}, {'description': 'Illuminated Door Sills with changeable cover', 'type': 'F', 'code': 'U45', 'codeType': 'SA'}, {'description': 'Steering code for Code 475', 'type': 'F', 'code': '6P5', 'codeType': 'SC'}, {'description': 'Elektromotor vorn 170 KW  / 3200 NM', 'type': 'F', 'code': 'EMB', 'codeType': 'SC'}, {'description': 'Rating Laenderset USA NCAP', 'type': 'F', 'code': '3B1', 'codeType': 'SC'}, {'description': 'Direct current charging system (DC charging)', 'type': 'F', 'code': '83B', 'codeType': 'SA'}, {'description': 'Elektromotor hinten 300 KW / 5700 NM', 'type': 'F', 'code': 'EMR', 'codeType': 'SC'}, {'description': 'Control code for service interval', 'type': 'F', 'code': 'K12', 'codeType': 'SC'}, {'description': 'Headunit Länderset für Nordamerika (NTG 7)', 'type': 'F', 'code': '0U3', 'codeType': 'SC'}, {'description': 'Through-loading feature', 'type': 'F', 'code': '287', 'codeType': 'SA'}, {'description': 'Fingerprint scanner', 'type': 'F', 'code': '321', 'codeType': 'SA'}, {'description': 'Heat-insulating dark-tinted glass', 'type': 'F', 'code': '840', 'codeType': 'SA'}, {'description': '53.3 cm (21-inch) AMG 5-twin-spoke light-alloy wheels', 'type': 'F', 'code': 'RWZ', 'codeType': 'SA'}, {'description': 'Continuous reflector strip at front', 'type': 'F', 'code': '324', 'codeType': 'SA'}, {'description': 'Preinstallation for projection function for animations', 'type': 'F', 'code': '43U', 'codeType': 'SA'}, {'description': 'Pre-installation for GUARD 360° Services', 'type': 'F', 'code': '31U', 'codeType': 'SC'}, {'description': 'PTC battery heater booster for hybrid/EV', 'type': 'F', 'code': '8U4', 'codeType': 'SC'}, {'description': 'Adaptive Highbeam Assist', 'type': 'F', 'code': '608', 'codeType': 'SA'}, {'description': 'Mercedes-AMG interior', 'type': 'F', 'code': 'PTF', 'codeType': 'PC'}, {'description': 'Silver-painted brake callipers', 'type': 'F', 'code': 'B06', 'codeType': 'SA'}, {'description': 'Airbags - windowbags', 'type': 'F', 'code': '290', 'codeType': 'SA'}, {'description': 'PRE-SAFE® Impulse side', 'type': 'F', 'code': '292', 'codeType': 'SA'}, {'description': 'Kneebag', 'type': 'F', 'code': '294', 'codeType': 'SA'}, {'description': 'Advanced Plus Package', 'type': 'F', 'code': 'PDB', 'codeType': 'PC'}, {'description': 'Apple CarPlay', 'type': 'F', 'code': '16U', 'codeType': 'SA'}, {'description': 'Transparent bonnet', 'type': 'F', 'code': '04U', 'codeType': 'SA'}, {'description': 'PRE-SAFE® system', 'type': 'F', 'code': '299', 'codeType': 'SA'}, {'description': 'Summer tyres', 'type': 'F', 'code': 'R01', 'codeType': 'SA'}, {'description': 'Mirror Package', 'type': 'F', 'code': 'P49', 'codeType': 'PC'}, {'description': 'Sound personalisation', 'type': 'F', 'code': '32U', 'codeType': 'SA'}, {'description': 'noise-optimised tyres with foam absorber', 'type': 'F', 'code': 'R06', 'codeType': 'SA'}, {'description': 'MY802.5', 'type': 'F', 'code': 'D52', 'codeType': 'SC'}, {'description': 'Mercedes-AMG exterior', 'type': 'F', 'code': 'PUF', 'codeType': 'PC'}, {'description': 'HV-BATTERIE 2P2P90S (M-BATTERIEGROESSE)', 'type': 'F', 'code': 'BAB', 'codeType': 'SC'}, {'description': 'SE Executive Edition Steering Code', 'type': 'F', 'code': 'D55', 'codeType': 'SC'}, {'description': 'Extended automatic Re-start in traffic jams', 'type': 'F', 'code': 'K33', 'codeType': 'SA'}, {'description': 'Active Lane Change Assist', 'type': 'F', 'code': 'K32', 'codeType': 'SA'}, {'description': 'Produktionsstandort Fahrzeug USA', 'type': 'F', 'code': '184', 'codeType': 'SC'}, {'description': 'Automatic climate control', 'type': 'F', 'code': '580', 'codeType': 'SA'}, {'description': 'Route-based speed adaptation', 'type': 'F', 'code': 'K34', 'codeType': 'SA'}, {'description': 'Android Auto', 'type': 'F', 'code': '17U', 'codeType': 'SA'}, {'description': 'Package (steering code) - multimedia / digital contents', 'type': 'F', 'code': '2S0', 'codeType': 'SC'}, {'description': 'Electric windows with one-touch lowering', 'type': 'F', 'code': '583', 'codeType': 'SA'}, {'description': 'Geräuschvorschrift nach ECE R51-02', 'type': 'F', 'code': 'K38', 'codeType': 'SC'}, {'description': 'OLED front passenger display', 'type': 'F', 'code': '860', 'codeType': 'SA'}, {'description': 'AMG ACTIVE RIDE CONTROL roll stabilisation', 'type': 'F', 'code': '465', 'codeType': 'SA'}, {'description': 'Ambient lighting with projection of brand logo', 'type': 'F', 'code': '587', 'codeType': 'SA'}, {'description': 'Electrically folding exterior mirrors', 'type': 'F', 'code': '500', 'codeType': 'SA'}, {'description': '360° camera', 'type': 'F', 'code': '501', 'codeType': 'SA'}, {'description': 'Sports seats', 'type': 'F', 'code': '7U4', 'codeType': 'SA'}, {'description': '3 years of free navigation updates for map data', 'type': 'F', 'code': '502', 'codeType': 'SC'}, {'description': 'Identification label with VIN number', 'type': 'F', 'code': '986', 'codeType': 'SA'}, {'description': 'Vehicle with separating clutch EATS', 'type': 'F', 'code': 'A83', 'codeType': 'SC'}], 'paint': {'description': 'Polar white', 'type': 'UNI', 'group': 'W', 'code': '149', 'codeType': 'XX'}, 'poolflag': 'P', 'powerkw': 460, 'powerps': 625, 'primaryEngine': {'power': {'kw': 460, 'ps': 625}}, 'technicalData': [{'id': '137T', 'value': '30', 'text': 'Drive concept'}, {'id': '105T', 'value': '460', 'unit': 'kW', 'text': 'Rated power, electric KW'}, {'id': '139T', 'value': 'ECE', 'text': 'Supply market'}, {'id': '08T', 'value': '3195', 'unit': 'kg', 'text': 'Perm. gross vehicle weight'}, {'id': '18T', 'value': '1672', 'unit': 'mm', 'text': 'Vehicle height, ready to drive'}, {'id': '140T', 'value': 'Elektromotor', 'text': 'Primary source of power'}, {'id': '130T', 'value': '137', 'unit': 'mph', 'text': 'maximum speed mph'}, {'id': '14T', 'value': '4879', 'unit': 'mm', 'text': 'Vehicle length'}, {'id': '36T', 'value': '0', 'unit': 'hp', 'text': 'Rated output'}, {'id': '02T', 'value': '5', 'text': 'No. of doors (inc. large tailgate)'}, {'id': '46T', 'value': '220', 'unit': 'km/h', 'text': 'Maximum speed'}, {'id': '24T', 'value': '275/40 R21 107W XL', 'text': 'Front tyre designation'}, {'id': '78T', 'value': 'E', 'text': 'Fuel type'}, {'id': '66T', 'value': '3030', 'unit': 'mm', 'text': 'Wheelbase'}, {'id': '10T', 'value': '1800', 'unit': 'kg', 'text': 'Perm. trailer load, braked (up to12 %)'}, {'id': '32T', 'value': '0', 'unit': 'cc', 'text': 'Displacement (bore x stroke)'}, {'id': '42T', 'value': '0', 'unit': 'g/km', 'text': 'CO2 emission (min.)'}, {'id': '84T', 'value': '0', 'unit': 'g/km', 'text': 'CO2 emission (max.)'}, {'id': '138T', 'value': 'LI', 'text': 'HV battery type'}, {'id': '106T', 'value': '625', 'unit': 'HP', 'text': 'Rated power, electric HP'}, {'id': '09T', 'value': '505', 'unit': 'kg', 'text': 'Payload (EU)'}, {'id': '07T', 'value': '2690', 'unit': 'kg', 'text': 'Kerb weight (EU)'}, {'id': '219T', 'value': '100', 'unit': 'kg', 'text': 'Permissible drawbar load'}, {'id': '39T', 'value': '0', 'unit': '1/min', 'text': 'Maximum engine speed'}, {'id': '15T', 'value': '2141', 'unit': 'mm', 'text': 'Vehicle width inc. exterior mirrors'}, {'id': '141T', 'text': 'Secondary source of power'}, {'id': '163T', 'value': '2615', 'unit': 'kg', 'text': 'Kerb weight (DIN)'}, {'id': '47T', 'value': '3.7', 'unit': 's', 'text': 'Acceleration 0-100 km/h'}, {'id': '03T', 'unit': 'L', 'text': 'VDA luggage space, closed'}, {'id': '25T', 'value': '275/40 R21 107W XL', 'text': 'Rear tyre designation'}, {'id': '35T', 'value': '0', 'unit': 'kW', 'text': 'Rated output'}, {'id': '01T', 'value': '5', 'text': 'Perm. no. of seats'}, {'id': '23T', 'value': '4x4 (AWD)', 'text': 'Type of propulsion'}, {'id': '45T', 'value': '0', 'unit': 'l/100km', 'text': 'Fuel consumption, combined (min.)'}, {'id': '89T', 'value': '1931', 'unit': 'mm', 'text': 'Vehicle width without mirrors'}, {'id': '11T', 'value': '750', 'unit': 'kg', 'text': 'Perm. trailer load, unbraked'}, {'id': '87T', 'value': '0', 'unit': 'l/100km', 'text': 'Fuel consumption, combined (max.)'}, {'id': '113T', 'value': '90.56', 'unit': 'kWh', 'text': 'HV battery – usable energy content'}, {'id': '41T', 'text': 'Exhaust emissions standard'}, {'id': '81T', 'value': 'auto.', 'text': 'Transmission - type of gearshift'}], 'transmissiontype': {'code': 'A', 'text': 'automatic transmission'}, 'upholstery': {'description': 'black / space grey', 'type': 'FABRIC', 'group': 'S', 'code': '651', 'codeType': 'XX'}, 'vin11': '4JGGM5DB2RA', 'weight': {'total': 3195, 'axis1': 1545, 'axis2': 1710}, 'wheelbase': 3030}}\n"
     ]
    }
   ],
   "source": [
    "vin = \"4JGGM5DB2RA033564\"\n",
    "api_call = f\"{api_url}{vin}?locale=en_GB&payloadNullValues=false\"\n",
    "headers = {'x-api-key': api_key, 'accept': 'application/json'}\n",
    "response = requests.get(api_call, headers=headers)\n",
    "\n",
    "if response.status_code == 200:\n",
    "    api_data = response.json()\n",
    "    print(vin)\n",
    "    print(api_data)"
   ]
  },
  {
   "cell_type": "code",
   "execution_count": 14,
   "metadata": {},
   "outputs": [
    {
     "name": "stdout",
     "output_type": "stream",
     "text": [
      "Requirement already satisfied: llama-index in c:\\users\\beste aydemir\\anaconda3\\lib\\site-packages (0.10.32)\n",
      "Requirement already satisfied: llama-index-readers-web in c:\\users\\beste aydemir\\anaconda3\\lib\\site-packages (0.1.10)\n",
      "Requirement already satisfied: llama-index-agent-openai<0.3.0,>=0.1.4 in c:\\users\\beste aydemir\\anaconda3\\lib\\site-packages (from llama-index) (0.2.3)\n",
      "Requirement already satisfied: llama-index-cli<0.2.0,>=0.1.2 in c:\\users\\beste aydemir\\anaconda3\\lib\\site-packages (from llama-index) (0.1.12)\n",
      "Requirement already satisfied: llama-index-core<0.11.0,>=0.10.32 in c:\\users\\beste aydemir\\anaconda3\\lib\\site-packages (from llama-index) (0.10.32)\n",
      "Requirement already satisfied: llama-index-embeddings-openai<0.2.0,>=0.1.5 in c:\\users\\beste aydemir\\anaconda3\\lib\\site-packages (from llama-index) (0.1.9)\n",
      "Requirement already satisfied: llama-index-indices-managed-llama-cloud<0.2.0,>=0.1.2 in c:\\users\\beste aydemir\\anaconda3\\lib\\site-packages (from llama-index) (0.1.6)\n",
      "Requirement already satisfied: llama-index-legacy<0.10.0,>=0.9.48 in c:\\users\\beste aydemir\\anaconda3\\lib\\site-packages (from llama-index) (0.9.48)\n",
      "Requirement already satisfied: llama-index-llms-openai<0.2.0,>=0.1.13 in c:\\users\\beste aydemir\\anaconda3\\lib\\site-packages (from llama-index) (0.1.16)\n",
      "Requirement already satisfied: llama-index-multi-modal-llms-openai<0.2.0,>=0.1.3 in c:\\users\\beste aydemir\\anaconda3\\lib\\site-packages (from llama-index) (0.1.5)\n",
      "Requirement already satisfied: llama-index-program-openai<0.2.0,>=0.1.3 in c:\\users\\beste aydemir\\anaconda3\\lib\\site-packages (from llama-index) (0.1.6)\n",
      "Requirement already satisfied: llama-index-question-gen-openai<0.2.0,>=0.1.2 in c:\\users\\beste aydemir\\anaconda3\\lib\\site-packages (from llama-index) (0.1.3)\n",
      "Requirement already satisfied: llama-index-readers-file<0.2.0,>=0.1.4 in c:\\users\\beste aydemir\\anaconda3\\lib\\site-packages (from llama-index) (0.1.19)\n",
      "Requirement already satisfied: llama-index-readers-llama-parse<0.2.0,>=0.1.2 in c:\\users\\beste aydemir\\anaconda3\\lib\\site-packages (from llama-index) (0.1.4)\n",
      "Requirement already satisfied: aiohttp<4.0.0,>=3.9.1 in c:\\users\\beste aydemir\\anaconda3\\lib\\site-packages (from llama-index-readers-web) (3.9.5)\n",
      "Requirement already satisfied: beautifulsoup4<5.0.0,>=4.12.3 in c:\\users\\beste aydemir\\anaconda3\\lib\\site-packages (from llama-index-readers-web) (4.12.3)\n",
      "Requirement already satisfied: chromedriver-autoinstaller<0.7.0,>=0.6.3 in c:\\users\\beste aydemir\\anaconda3\\lib\\site-packages (from llama-index-readers-web) (0.6.4)\n",
      "Requirement already satisfied: html2text<2021.0.0,>=2020.1.16 in c:\\users\\beste aydemir\\anaconda3\\lib\\site-packages (from llama-index-readers-web) (2020.1.16)\n",
      "Requirement already satisfied: newspaper3k<0.3.0,>=0.2.8 in c:\\users\\beste aydemir\\anaconda3\\lib\\site-packages (from llama-index-readers-web) (0.2.8)\n",
      "Requirement already satisfied: playwright<2.0,>=1.30 in c:\\users\\beste aydemir\\anaconda3\\lib\\site-packages (from llama-index-readers-web) (1.43.0)\n",
      "Requirement already satisfied: requests<3.0.0,>=2.31.0 in c:\\users\\beste aydemir\\anaconda3\\lib\\site-packages (from llama-index-readers-web) (2.31.0)\n",
      "Requirement already satisfied: selenium<5.0.0,>=4.17.2 in c:\\users\\beste aydemir\\anaconda3\\lib\\site-packages (from llama-index-readers-web) (4.20.0)\n",
      "Requirement already satisfied: urllib3>=1.1.0 in c:\\users\\beste aydemir\\anaconda3\\lib\\site-packages (from llama-index-readers-web) (1.26.16)\n",
      "Requirement already satisfied: aiosignal>=1.1.2 in c:\\users\\beste aydemir\\anaconda3\\lib\\site-packages (from aiohttp<4.0.0,>=3.9.1->llama-index-readers-web) (1.2.0)\n",
      "Requirement already satisfied: attrs>=17.3.0 in c:\\users\\beste aydemir\\anaconda3\\lib\\site-packages (from aiohttp<4.0.0,>=3.9.1->llama-index-readers-web) (23.2.0)\n",
      "Requirement already satisfied: frozenlist>=1.1.1 in c:\\users\\beste aydemir\\anaconda3\\lib\\site-packages (from aiohttp<4.0.0,>=3.9.1->llama-index-readers-web) (1.3.3)\n",
      "Requirement already satisfied: multidict<7.0,>=4.5 in c:\\users\\beste aydemir\\anaconda3\\lib\\site-packages (from aiohttp<4.0.0,>=3.9.1->llama-index-readers-web) (6.0.2)\n",
      "Requirement already satisfied: yarl<2.0,>=1.0 in c:\\users\\beste aydemir\\anaconda3\\lib\\site-packages (from aiohttp<4.0.0,>=3.9.1->llama-index-readers-web) (1.8.1)\n",
      "Requirement already satisfied: soupsieve>1.2 in c:\\users\\beste aydemir\\anaconda3\\lib\\site-packages (from beautifulsoup4<5.0.0,>=4.12.3->llama-index-readers-web) (2.4)\n",
      "Requirement already satisfied: packaging>=23.1 in c:\\users\\beste aydemir\\anaconda3\\lib\\site-packages (from chromedriver-autoinstaller<0.7.0,>=0.6.3->llama-index-readers-web) (23.1)\n",
      "Requirement already satisfied: openai>=1.14.0 in c:\\users\\beste aydemir\\anaconda3\\lib\\site-packages (from llama-index-agent-openai<0.3.0,>=0.1.4->llama-index) (1.23.6)\n",
      "Requirement already satisfied: PyYAML>=6.0.1 in c:\\users\\beste aydemir\\anaconda3\\lib\\site-packages (from llama-index-core<0.11.0,>=0.10.32->llama-index) (6.0.1)\n",
      "Requirement already satisfied: SQLAlchemy[asyncio]>=1.4.49 in c:\\users\\beste aydemir\\anaconda3\\lib\\site-packages (from llama-index-core<0.11.0,>=0.10.32->llama-index) (2.0.29)\n",
      "Requirement already satisfied: dataclasses-json in c:\\users\\beste aydemir\\anaconda3\\lib\\site-packages (from llama-index-core<0.11.0,>=0.10.32->llama-index) (0.6.4)\n",
      "Requirement already satisfied: deprecated>=1.2.9.3 in c:\\users\\beste aydemir\\anaconda3\\lib\\site-packages (from llama-index-core<0.11.0,>=0.10.32->llama-index) (1.2.14)\n",
      "Requirement already satisfied: dirtyjson<2.0.0,>=1.0.8 in c:\\users\\beste aydemir\\anaconda3\\lib\\site-packages (from llama-index-core<0.11.0,>=0.10.32->llama-index) (1.0.8)\n",
      "Requirement already satisfied: fsspec>=2023.5.0 in c:\\users\\beste aydemir\\anaconda3\\lib\\site-packages (from llama-index-core<0.11.0,>=0.10.32->llama-index) (2024.3.1)\n",
      "Requirement already satisfied: httpx in c:\\users\\beste aydemir\\anaconda3\\lib\\site-packages (from llama-index-core<0.11.0,>=0.10.32->llama-index) (0.27.0)\n",
      "Requirement already satisfied: llamaindex-py-client<0.2.0,>=0.1.18 in c:\\users\\beste aydemir\\anaconda3\\lib\\site-packages (from llama-index-core<0.11.0,>=0.10.32->llama-index) (0.1.19)\n",
      "Requirement already satisfied: nest-asyncio<2.0.0,>=1.5.8 in c:\\users\\beste aydemir\\anaconda3\\lib\\site-packages (from llama-index-core<0.11.0,>=0.10.32->llama-index) (1.6.0)\n",
      "Requirement already satisfied: networkx>=3.0 in c:\\users\\beste aydemir\\anaconda3\\lib\\site-packages (from llama-index-core<0.11.0,>=0.10.32->llama-index) (3.1)\n",
      "Requirement already satisfied: nltk<4.0.0,>=3.8.1 in c:\\users\\beste aydemir\\anaconda3\\lib\\site-packages (from llama-index-core<0.11.0,>=0.10.32->llama-index) (3.8.1)\n",
      "Requirement already satisfied: numpy in c:\\users\\beste aydemir\\anaconda3\\lib\\site-packages (from llama-index-core<0.11.0,>=0.10.32->llama-index) (1.24.3)\n",
      "Requirement already satisfied: pandas in c:\\users\\beste aydemir\\anaconda3\\lib\\site-packages (from llama-index-core<0.11.0,>=0.10.32->llama-index) (2.0.3)\n",
      "Requirement already satisfied: pillow>=9.0.0 in c:\\users\\beste aydemir\\anaconda3\\lib\\site-packages (from llama-index-core<0.11.0,>=0.10.32->llama-index) (9.4.0)\n",
      "Requirement already satisfied: tenacity<9.0.0,>=8.2.0 in c:\\users\\beste aydemir\\anaconda3\\lib\\site-packages (from llama-index-core<0.11.0,>=0.10.32->llama-index) (8.2.2)\n",
      "Requirement already satisfied: tiktoken>=0.3.3 in c:\\users\\beste aydemir\\anaconda3\\lib\\site-packages (from llama-index-core<0.11.0,>=0.10.32->llama-index) (0.6.0)\n",
      "Requirement already satisfied: tqdm<5.0.0,>=4.66.1 in c:\\users\\beste aydemir\\anaconda3\\lib\\site-packages (from llama-index-core<0.11.0,>=0.10.32->llama-index) (4.66.2)\n",
      "Requirement already satisfied: typing-extensions>=4.5.0 in c:\\users\\beste aydemir\\anaconda3\\lib\\site-packages (from llama-index-core<0.11.0,>=0.10.32->llama-index) (4.11.0)\n",
      "Requirement already satisfied: typing-inspect>=0.8.0 in c:\\users\\beste aydemir\\anaconda3\\lib\\site-packages (from llama-index-core<0.11.0,>=0.10.32->llama-index) (0.9.0)\n",
      "Requirement already satisfied: wrapt in c:\\users\\beste aydemir\\anaconda3\\lib\\site-packages (from llama-index-core<0.11.0,>=0.10.32->llama-index) (1.14.1)\n",
      "Requirement already satisfied: pypdf<5.0.0,>=4.0.1 in c:\\users\\beste aydemir\\anaconda3\\lib\\site-packages (from llama-index-readers-file<0.2.0,>=0.1.4->llama-index) (4.2.0)\n",
      "Requirement already satisfied: striprtf<0.0.27,>=0.0.26 in c:\\users\\beste aydemir\\anaconda3\\lib\\site-packages (from llama-index-readers-file<0.2.0,>=0.1.4->llama-index) (0.0.26)\n",
      "Requirement already satisfied: llama-parse<0.5.0,>=0.4.0 in c:\\users\\beste aydemir\\anaconda3\\lib\\site-packages (from llama-index-readers-llama-parse<0.2.0,>=0.1.2->llama-index) (0.4.2)\n",
      "Requirement already satisfied: cssselect>=0.9.2 in c:\\users\\beste aydemir\\anaconda3\\lib\\site-packages (from newspaper3k<0.3.0,>=0.2.8->llama-index-readers-web) (1.1.0)\n",
      "Requirement already satisfied: lxml>=3.6.0 in c:\\users\\beste aydemir\\anaconda3\\lib\\site-packages (from newspaper3k<0.3.0,>=0.2.8->llama-index-readers-web) (4.9.3)\n",
      "Requirement already satisfied: feedparser>=5.2.1 in c:\\users\\beste aydemir\\anaconda3\\lib\\site-packages (from newspaper3k<0.3.0,>=0.2.8->llama-index-readers-web) (6.0.11)\n",
      "Requirement already satisfied: tldextract>=2.0.1 in c:\\users\\beste aydemir\\anaconda3\\lib\\site-packages (from newspaper3k<0.3.0,>=0.2.8->llama-index-readers-web) (3.2.0)\n",
      "Requirement already satisfied: feedfinder2>=0.0.4 in c:\\users\\beste aydemir\\anaconda3\\lib\\site-packages (from newspaper3k<0.3.0,>=0.2.8->llama-index-readers-web) (0.0.4)\n",
      "Requirement already satisfied: jieba3k>=0.35.1 in c:\\users\\beste aydemir\\anaconda3\\lib\\site-packages (from newspaper3k<0.3.0,>=0.2.8->llama-index-readers-web) (0.35.1)\n",
      "Requirement already satisfied: python-dateutil>=2.5.3 in c:\\users\\beste aydemir\\anaconda3\\lib\\site-packages (from newspaper3k<0.3.0,>=0.2.8->llama-index-readers-web) (2.8.2)\n",
      "Requirement already satisfied: tinysegmenter==0.3 in c:\\users\\beste aydemir\\anaconda3\\lib\\site-packages (from newspaper3k<0.3.0,>=0.2.8->llama-index-readers-web) (0.3)\n",
      "Requirement already satisfied: greenlet==3.0.3 in c:\\users\\beste aydemir\\anaconda3\\lib\\site-packages (from playwright<2.0,>=1.30->llama-index-readers-web) (3.0.3)\n",
      "Requirement already satisfied: pyee==11.1.0 in c:\\users\\beste aydemir\\anaconda3\\lib\\site-packages (from playwright<2.0,>=1.30->llama-index-readers-web) (11.1.0)\n",
      "Requirement already satisfied: charset-normalizer<4,>=2 in c:\\users\\beste aydemir\\anaconda3\\lib\\site-packages (from requests<3.0.0,>=2.31.0->llama-index-readers-web) (2.0.4)\n",
      "Requirement already satisfied: idna<4,>=2.5 in c:\\users\\beste aydemir\\anaconda3\\lib\\site-packages (from requests<3.0.0,>=2.31.0->llama-index-readers-web) (3.4)\n",
      "Requirement already satisfied: certifi>=2017.4.17 in c:\\users\\beste aydemir\\anaconda3\\lib\\site-packages (from requests<3.0.0,>=2.31.0->llama-index-readers-web) (2023.7.22)\n",
      "Requirement already satisfied: trio~=0.17 in c:\\users\\beste aydemir\\anaconda3\\lib\\site-packages (from selenium<5.0.0,>=4.17.2->llama-index-readers-web) (0.25.0)\n",
      "Requirement already satisfied: trio-websocket~=0.9 in c:\\users\\beste aydemir\\anaconda3\\lib\\site-packages (from selenium<5.0.0,>=4.17.2->llama-index-readers-web) (0.11.1)\n",
      "Requirement already satisfied: six in c:\\users\\beste aydemir\\anaconda3\\lib\\site-packages (from feedfinder2>=0.0.4->newspaper3k<0.3.0,>=0.2.8->llama-index-readers-web) (1.16.0)\n",
      "Requirement already satisfied: sgmllib3k in c:\\users\\beste aydemir\\anaconda3\\lib\\site-packages (from feedparser>=5.2.1->newspaper3k<0.3.0,>=0.2.8->llama-index-readers-web) (1.0.0)\n",
      "Requirement already satisfied: pydantic>=1.10 in c:\\users\\beste aydemir\\anaconda3\\lib\\site-packages (from llamaindex-py-client<0.2.0,>=0.1.18->llama-index-core<0.11.0,>=0.10.32->llama-index) (1.10.8)\n",
      "Requirement already satisfied: anyio in c:\\users\\beste aydemir\\anaconda3\\lib\\site-packages (from httpx->llama-index-core<0.11.0,>=0.10.32->llama-index) (3.5.0)\n",
      "Requirement already satisfied: httpcore==1.* in c:\\users\\beste aydemir\\anaconda3\\lib\\site-packages (from httpx->llama-index-core<0.11.0,>=0.10.32->llama-index) (1.0.5)\n",
      "Requirement already satisfied: sniffio in c:\\users\\beste aydemir\\anaconda3\\lib\\site-packages (from httpx->llama-index-core<0.11.0,>=0.10.32->llama-index) (1.3.1)\n",
      "Requirement already satisfied: h11<0.15,>=0.13 in c:\\users\\beste aydemir\\anaconda3\\lib\\site-packages (from httpcore==1.*->httpx->llama-index-core<0.11.0,>=0.10.32->llama-index) (0.14.0)\n",
      "Requirement already satisfied: click in c:\\users\\beste aydemir\\anaconda3\\lib\\site-packages (from nltk<4.0.0,>=3.8.1->llama-index-core<0.11.0,>=0.10.32->llama-index) (8.0.4)\n",
      "Requirement already satisfied: joblib in c:\\users\\beste aydemir\\anaconda3\\lib\\site-packages (from nltk<4.0.0,>=3.8.1->llama-index-core<0.11.0,>=0.10.32->llama-index) (1.2.0)\n",
      "Requirement already satisfied: regex>=2021.8.3 in c:\\users\\beste aydemir\\anaconda3\\lib\\site-packages (from nltk<4.0.0,>=3.8.1->llama-index-core<0.11.0,>=0.10.32->llama-index) (2022.7.9)\n",
      "Requirement already satisfied: distro<2,>=1.7.0 in c:\\users\\beste aydemir\\anaconda3\\lib\\site-packages (from openai>=1.14.0->llama-index-agent-openai<0.3.0,>=0.1.4->llama-index) (1.9.0)\n",
      "Requirement already satisfied: requests-file>=1.4 in c:\\users\\beste aydemir\\anaconda3\\lib\\site-packages (from tldextract>=2.0.1->newspaper3k<0.3.0,>=0.2.8->llama-index-readers-web) (1.5.1)\n",
      "Requirement already satisfied: filelock>=3.0.8 in c:\\users\\beste aydemir\\anaconda3\\lib\\site-packages (from tldextract>=2.0.1->newspaper3k<0.3.0,>=0.2.8->llama-index-readers-web) (3.9.0)\n",
      "Requirement already satisfied: colorama in c:\\users\\beste aydemir\\anaconda3\\lib\\site-packages (from tqdm<5.0.0,>=4.66.1->llama-index-core<0.11.0,>=0.10.32->llama-index) (0.4.6)\n",
      "Requirement already satisfied: sortedcontainers in c:\\users\\beste aydemir\\anaconda3\\lib\\site-packages (from trio~=0.17->selenium<5.0.0,>=4.17.2->llama-index-readers-web) (2.4.0)\n",
      "Requirement already satisfied: outcome in c:\\users\\beste aydemir\\anaconda3\\lib\\site-packages (from trio~=0.17->selenium<5.0.0,>=4.17.2->llama-index-readers-web) (1.3.0.post0)\n",
      "Requirement already satisfied: cffi>=1.14 in c:\\users\\beste aydemir\\anaconda3\\lib\\site-packages (from trio~=0.17->selenium<5.0.0,>=4.17.2->llama-index-readers-web) (1.15.1)\n",
      "Requirement already satisfied: wsproto>=0.14 in c:\\users\\beste aydemir\\anaconda3\\lib\\site-packages (from trio-websocket~=0.9->selenium<5.0.0,>=4.17.2->llama-index-readers-web) (1.2.0)\n",
      "Requirement already satisfied: mypy-extensions>=0.3.0 in c:\\users\\beste aydemir\\anaconda3\\lib\\site-packages (from typing-inspect>=0.8.0->llama-index-core<0.11.0,>=0.10.32->llama-index) (1.0.0)\n",
      "Requirement already satisfied: PySocks!=1.5.7,<2.0,>=1.5.6 in c:\\users\\beste aydemir\\anaconda3\\lib\\site-packages (from urllib3>=1.1.0->llama-index-readers-web) (1.7.1)\n",
      "Requirement already satisfied: marshmallow<4.0.0,>=3.18.0 in c:\\users\\beste aydemir\\anaconda3\\lib\\site-packages (from dataclasses-json->llama-index-core<0.11.0,>=0.10.32->llama-index) (3.21.1)\n",
      "Requirement already satisfied: pytz>=2020.1 in c:\\users\\beste aydemir\\anaconda3\\lib\\site-packages (from pandas->llama-index-core<0.11.0,>=0.10.32->llama-index) (2023.3.post1)\n",
      "Requirement already satisfied: tzdata>=2022.1 in c:\\users\\beste aydemir\\anaconda3\\lib\\site-packages (from pandas->llama-index-core<0.11.0,>=0.10.32->llama-index) (2023.3)\n",
      "Requirement already satisfied: pycparser in c:\\users\\beste aydemir\\anaconda3\\lib\\site-packages (from cffi>=1.14->trio~=0.17->selenium<5.0.0,>=4.17.2->llama-index-readers-web) (2.21)\n",
      "Note: you may need to restart the kernel to use updated packages.\n"
     ]
    }
   ],
   "source": [
    "pip install llama-index llama-index-readers-web"
   ]
  },
  {
   "cell_type": "code",
   "execution_count": 15,
   "metadata": {},
   "outputs": [],
   "source": [
    "import logging\n",
    "import sys\n",
    "\n",
    "logging.basicConfig(stream=sys.stdout, level=logging.INFO)\n",
    "logging.getLogger().addHandler(logging.StreamHandler(stream=sys.stdout))"
   ]
  },
  {
   "cell_type": "code",
   "execution_count": 16,
   "metadata": {},
   "outputs": [],
   "source": [
    "from llama_index.core import SummaryIndex\n",
    "from llama_index.readers.web import SimpleWebPageReader\n",
    "from IPython.display import Markdown, display\n",
    "import os"
   ]
  },
  {
   "cell_type": "code",
   "execution_count": 17,
   "metadata": {},
   "outputs": [],
   "source": [
    "documents = SimpleWebPageReader(html_to_text=True).load_data(\n",
    "    [\"https://ev-database.org/imp/cheatsheet/range-electric-car\"]\n",
    ")"
   ]
  },
  {
   "cell_type": "code",
   "execution_count": 19,
   "metadata": {},
   "outputs": [],
   "source": [
    "import os\n",
    "\n",
    "# Replace 'your-api-key' with your actual OpenAI API key\n",
    "os.environ['OPENAI_API_KEY'] = ''"
   ]
  },
  {
   "cell_type": "code",
   "execution_count": 21,
   "metadata": {},
   "outputs": [
    {
     "name": "stdout",
     "output_type": "stream",
     "text": [
      "INFO:httpx:HTTP Request: POST https://api.openai.com/v1/chat/completions \"HTTP/1.1 200 OK\"\n",
      "HTTP Request: POST https://api.openai.com/v1/chat/completions \"HTTP/1.1 200 OK\"\n",
      "INFO:httpx:HTTP Request: POST https://api.openai.com/v1/chat/completions \"HTTP/1.1 200 OK\"\n",
      "HTTP Request: POST https://api.openai.com/v1/chat/completions \"HTTP/1.1 200 OK\"\n",
      "INFO:httpx:HTTP Request: POST https://api.openai.com/v1/chat/completions \"HTTP/1.1 200 OK\"\n",
      "HTTP Request: POST https://api.openai.com/v1/chat/completions \"HTTP/1.1 200 OK\"\n",
      "INFO:httpx:HTTP Request: POST https://api.openai.com/v1/chat/completions \"HTTP/1.1 200 OK\"\n",
      "HTTP Request: POST https://api.openai.com/v1/chat/completions \"HTTP/1.1 200 OK\"\n"
     ]
    },
    {
     "data": {
      "text/markdown": [
       "<b>Lucid Air Grand Touring offers a range of 410 miles, making it a suitable choice for long-distance travel with limited access to charging stations.</b>"
      ],
      "text/plain": [
       "<IPython.core.display.Markdown object>"
      ]
     },
     "metadata": {},
     "output_type": "display_data"
    }
   ],
   "source": [
    "documents[0]\n",
    "index = SummaryIndex.from_documents(documents)\n",
    "# set Logging to DEBUG for more detailed outputs\n",
    "query_engine = index.as_query_engine()\n",
    "response = query_engine.query(\"I have to travel a lot and I don't have access to a lot of charging stations. What electric car should I buy?\")\n",
    "display(Markdown(f\"<b>{response}</b>\"))"
   ]
  }
 ],
 "metadata": {
  "kernelspec": {
   "display_name": "graph_p39",
   "language": "python",
   "name": "python3"
  },
  "language_info": {
   "codemirror_mode": {
    "name": "ipython",
    "version": 3
   },
   "file_extension": ".py",
   "mimetype": "text/x-python",
   "name": "python",
   "nbconvert_exporter": "python",
   "pygments_lexer": "ipython3",
   "version": "3.11.5"
  }
 },
 "nbformat": 4,
 "nbformat_minor": 2
}
